{
 "cells": [
  {
   "cell_type": "markdown",
   "metadata": {},
   "source": [
    "# Prepare dataset\n",
    "The purpose of this file is to normalize dataset to have same size along the whole dataset in one run. \n",
    "This code finds all files from the directory and cuts each of them into smaller pieces of same *length*, optionally with a *stride*. If the  piece of a file is shorter than a *length* but still longer than a *minimum length treshold* zeroes at the end of a file are padded (to make the size equal to *length*).\n",
    "\n",
    "To-do list\n",
    "\n",
    "**Part 1**\n",
    "* [x] find all files in the directory\n",
    "* [x] prepare a strategy how to cut files: user gives file length in seconds, but we oparate on array indexes\n",
    "* [x] cut sound into pieces \n",
    "* [x] apply melspectrogram\n",
    "* [x] save files\n",
    "\n",
    "**Part 2**\n",
    "* [ ] Prepare test, validation and training sets with k-fold validation"
   ]
  },
  {
   "cell_type": "markdown",
   "metadata": {},
   "source": [
    "## Create list of all files to cut"
   ]
  },
  {
   "cell_type": "code",
   "execution_count": 1,
   "metadata": {
    "scrolled": false
   },
   "outputs": [
    {
     "name": "stdout",
     "output_type": "stream",
     "text": [
      "1 . Found  418  files for  Parusmajor ( 1 )\n",
      "2 . Found  59  files for  Passerdomesticus ( 3 )\n",
      "3 . Found  107  files for  Luscinialuscinia ( 4 )\n",
      "4 . Found  111  files for  Phoenicurusphoenicurus ( 7 )\n",
      "5 . Found  446  files for  Erithacusrubecula ( 8 )\n",
      "6 . Found  80  files for  Phoenicurusochruros ( 10 )\n",
      "7 . Found  134  files for  Sittaeuropaea ( 16 )\n",
      "8 . Found  105  files for  Alaudaarvensis ( 17 )\n",
      "9 . Found  216  files for  Phylloscopustrochilus ( 19 )\n",
      "10 . Found  564  files for  Turdusphilomelos ( 21 )\n",
      "11 . Found  314  files for  Phylloscopuscollybita ( 22 )\n",
      "12 . Found  365  files for  Fringillacoelebs ( 23 )\n",
      "13 . Found  65  files for  Sturnusvulgaris ( 24 )\n",
      "14 . Found  329  files for  Emberizacitrinella ( 25 )\n",
      "15 . Found  58  files for  Columbapalumbus ( 26 )\n",
      "16 . Found  204  files for  Troglodytestroglodytes ( 27 )\n",
      "17 . Found  53  files for  Cardueliscarduelis ( 30 )\n",
      "18 . Found  97  files for  Chlorischloris ( 31 )\n",
      "19 . Found  667  files for  Turdusmerula ( 33 )\n",
      "['Parusmajor', 'Passerdomesticus', 'Luscinialuscinia', 'Phoenicurusphoenicurus', 'Erithacusrubecula', 'Phoenicurusochruros', 'Sittaeuropaea', 'Alaudaarvensis', 'Phylloscopustrochilus', 'Turdusphilomelos', 'Phylloscopuscollybita', 'Fringillacoelebs', 'Sturnusvulgaris', 'Emberizacitrinella', 'Columbapalumbus', 'Troglodytestroglodytes', 'Cardueliscarduelis', 'Chlorischloris', 'Turdusmerula']\n"
     ]
    }
   ],
   "source": [
    "%matplotlib inline\n",
    "import matplotlib\n",
    "matplotlib.interactive(False)\n",
    "\n",
    "# find all of the files in the directory\n",
    "import os\n",
    "import gc\n",
    "\n",
    "\n",
    "birds=[] # list of all birds\n",
    "for root, dirs, files in os.walk(\"../data/xeno-canto-dataset-full/\"):\n",
    "    if root == \"../data/xeno-canto-dataset-full/\":\n",
    "        birds=dirs\n",
    "birds50=[]                \n",
    "flist=[] # list of all files\n",
    "blist=[] # list of files for one bird \n",
    "i50=0;\n",
    "for i, bird in enumerate(birds):\n",
    "    for root, dirs, files in os.walk(\"../data/xeno-canto-dataset-full/\"+bird):\n",
    "        for file in files:\n",
    "            if file.endswith(\".mp3\"):\n",
    "                blist.append(os.path.join(root, file))\n",
    "    if len(blist) > 50:\n",
    "        i50 = i50+1;\n",
    "        print(i50, \". Found \", len(blist), ' files for ', bird ,'(',i+1,')')\n",
    "        birds50.append(bird)\n",
    "        flist.append(blist)\n",
    "    blist=[]\n",
    "print(birds50) "
   ]
  },
  {
   "cell_type": "markdown",
   "metadata": {},
   "source": [
    "## Find strategy to cut the file\n",
    "We want to cut files to smaller pieces of the desired size (5 seconds in example), and stride of 1 second. Stride tells us how different pieces of files will overlap at each other."
   ]
  },
  {
   "cell_type": "code",
   "execution_count": 2,
   "metadata": {},
   "outputs": [],
   "source": [
    "def saveMel(signal, directory):\n",
    "    #gc.enable()\n",
    "    # MK_spectrogram modified\n",
    "    N_FFT = 1024         # \n",
    "    HOP_SIZE = 1024      #  \n",
    "    N_MELS = 128          # Higher   \n",
    "    WIN_SIZE = 1024      # \n",
    "    WINDOW_TYPE = 'hann' # \n",
    "    FEATURE = 'mel'      # \n",
    "    FMIN = 1400\n",
    "\n",
    "    fig = plt.figure(1,frameon=False)\n",
    "    fig.set_size_inches(6,6)\n",
    "\n",
    "    ax = plt.Axes(fig, [0., 0., 1., 1.])\n",
    "    ax.set_axis_off()\n",
    "    fig.add_axes(ax)\n",
    "    \n",
    "    S = librosa.feature.melspectrogram(y=signal, sr=sr,\n",
    "                                        n_fft=N_FFT,\n",
    "                                        hop_length=HOP_SIZE, \n",
    "                                        n_mels=N_MELS, \n",
    "                                        htk=True, \n",
    "                                        fmin=FMIN, # higher limit ##high-pass filter freq.\n",
    "                                        fmax=sr/2) # AMPLITUDE\n",
    "    librosa.display.specshow(librosa.power_to_db(S**2,ref=np.max), fmin=FMIN) #power = S**2\n",
    "\n",
    "    fig.savefig(directory)\n",
    "    #plt.show(block=False)\n",
    "    fig.clear()\n",
    "    ax.cla()\n",
    "    plt.clf()\n",
    "    plt.close('all')\n",
    "    #gc.collect()\n",
    "    #del gc.garbage[:]"
   ]
  },
  {
   "cell_type": "code",
   "execution_count": 3,
   "metadata": {},
   "outputs": [
    {
     "name": "stdout",
     "output_type": "stream",
     "text": [
      "Number of directories to check and cut:  19\n",
      "Processing  0 .  Parusmajor ...\n"
     ]
    },
    {
     "data": {
      "application/vnd.jupyter.widget-view+json": {
       "model_id": "105ab550acf04b0eb4cbf907351c1a67",
       "version_major": 2,
       "version_minor": 0
      },
      "text/plain": [
       "HBox(children=(IntProgress(value=1, bar_style='info', max=1), HTML(value='')))"
      ]
     },
     "metadata": {},
     "output_type": "display_data"
    },
    {
     "name": "stdout",
     "output_type": "stream",
     "text": [
      "\n",
      "Processing  1 .  Passerdomesticus ...\n"
     ]
    },
    {
     "data": {
      "application/vnd.jupyter.widget-view+json": {
       "model_id": "2fa9f8d19c1f4148addf57a1cb5d2029",
       "version_major": 2,
       "version_minor": 0
      },
      "text/plain": [
       "HBox(children=(IntProgress(value=1, bar_style='info', max=1), HTML(value='')))"
      ]
     },
     "metadata": {},
     "output_type": "display_data"
    },
    {
     "name": "stdout",
     "output_type": "stream",
     "text": [
      "\n",
      "Processing  2 .  Luscinialuscinia ...\n"
     ]
    },
    {
     "data": {
      "application/vnd.jupyter.widget-view+json": {
       "model_id": "9f034b7755804a11a1ddf016f69b91d6",
       "version_major": 2,
       "version_minor": 0
      },
      "text/plain": [
       "HBox(children=(IntProgress(value=1, bar_style='info', max=1), HTML(value='')))"
      ]
     },
     "metadata": {},
     "output_type": "display_data"
    },
    {
     "name": "stdout",
     "output_type": "stream",
     "text": [
      "\n",
      "Processing  3 .  Phoenicurusphoenicurus ...\n"
     ]
    },
    {
     "data": {
      "application/vnd.jupyter.widget-view+json": {
       "model_id": "50faa1cc88fd448786775c5bde94be96",
       "version_major": 2,
       "version_minor": 0
      },
      "text/plain": [
       "HBox(children=(IntProgress(value=1, bar_style='info', max=1), HTML(value='')))"
      ]
     },
     "metadata": {},
     "output_type": "display_data"
    },
    {
     "name": "stdout",
     "output_type": "stream",
     "text": [
      "\n",
      "Processing  4 .  Erithacusrubecula ...\n"
     ]
    },
    {
     "data": {
      "application/vnd.jupyter.widget-view+json": {
       "model_id": "839e40cb73da42829861c20b60e2e964",
       "version_major": 2,
       "version_minor": 0
      },
      "text/plain": [
       "HBox(children=(IntProgress(value=1, bar_style='info', max=1), HTML(value='')))"
      ]
     },
     "metadata": {},
     "output_type": "display_data"
    },
    {
     "name": "stdout",
     "output_type": "stream",
     "text": [
      "\n",
      "Processing  5 .  Phoenicurusochruros ...\n"
     ]
    },
    {
     "data": {
      "application/vnd.jupyter.widget-view+json": {
       "model_id": "8b45ad015e8b4579905d9be60206b462",
       "version_major": 2,
       "version_minor": 0
      },
      "text/plain": [
       "HBox(children=(IntProgress(value=1, bar_style='info', max=1), HTML(value='')))"
      ]
     },
     "metadata": {},
     "output_type": "display_data"
    },
    {
     "name": "stdout",
     "output_type": "stream",
     "text": [
      "\n",
      "Processing  6 .  Sittaeuropaea ...\n"
     ]
    },
    {
     "data": {
      "application/vnd.jupyter.widget-view+json": {
       "model_id": "bf118b6947d2497b89c7f8d856ad35a2",
       "version_major": 2,
       "version_minor": 0
      },
      "text/plain": [
       "HBox(children=(IntProgress(value=1, bar_style='info', max=1), HTML(value='')))"
      ]
     },
     "metadata": {},
     "output_type": "display_data"
    },
    {
     "name": "stdout",
     "output_type": "stream",
     "text": [
      "\n",
      "Processing  7 .  Alaudaarvensis ...\n"
     ]
    },
    {
     "data": {
      "application/vnd.jupyter.widget-view+json": {
       "model_id": "3d927dcdb69e4e66b93a936a02cc3061",
       "version_major": 2,
       "version_minor": 0
      },
      "text/plain": [
       "HBox(children=(IntProgress(value=1, bar_style='info', max=1), HTML(value='')))"
      ]
     },
     "metadata": {},
     "output_type": "display_data"
    },
    {
     "name": "stdout",
     "output_type": "stream",
     "text": [
      "\n",
      "Processing  8 .  Phylloscopustrochilus ...\n"
     ]
    },
    {
     "data": {
      "application/vnd.jupyter.widget-view+json": {
       "model_id": "eb3ed304e3ba4f48bef750cb1cd28eaf",
       "version_major": 2,
       "version_minor": 0
      },
      "text/plain": [
       "HBox(children=(IntProgress(value=1, bar_style='info', max=1), HTML(value='')))"
      ]
     },
     "metadata": {},
     "output_type": "display_data"
    },
    {
     "name": "stdout",
     "output_type": "stream",
     "text": [
      "\n",
      "Processing  9 .  Turdusphilomelos ...\n"
     ]
    },
    {
     "data": {
      "application/vnd.jupyter.widget-view+json": {
       "model_id": "5af8252540b94e2093d85ccadbb47617",
       "version_major": 2,
       "version_minor": 0
      },
      "text/plain": [
       "HBox(children=(IntProgress(value=1, bar_style='info', max=1), HTML(value='')))"
      ]
     },
     "metadata": {},
     "output_type": "display_data"
    },
    {
     "name": "stdout",
     "output_type": "stream",
     "text": [
      "\n",
      "Processing  10 .  Phylloscopuscollybita ...\n"
     ]
    },
    {
     "data": {
      "application/vnd.jupyter.widget-view+json": {
       "model_id": "3e412b471b2748e99e35d000329fdf4a",
       "version_major": 2,
       "version_minor": 0
      },
      "text/plain": [
       "HBox(children=(IntProgress(value=1, bar_style='info', max=1), HTML(value='')))"
      ]
     },
     "metadata": {},
     "output_type": "display_data"
    },
    {
     "name": "stdout",
     "output_type": "stream",
     "text": [
      "\n",
      "Processing  11 .  Fringillacoelebs ...\n"
     ]
    },
    {
     "data": {
      "application/vnd.jupyter.widget-view+json": {
       "model_id": "b9a56393cc2f465b9d7e34bfd58cc96a",
       "version_major": 2,
       "version_minor": 0
      },
      "text/plain": [
       "HBox(children=(IntProgress(value=1, bar_style='info', max=1), HTML(value='')))"
      ]
     },
     "metadata": {},
     "output_type": "display_data"
    },
    {
     "name": "stdout",
     "output_type": "stream",
     "text": [
      "\n",
      "Processing  12 .  Sturnusvulgaris ...\n"
     ]
    },
    {
     "data": {
      "application/vnd.jupyter.widget-view+json": {
       "model_id": "ace764817f184510af5bc1a54a1fe685",
       "version_major": 2,
       "version_minor": 0
      },
      "text/plain": [
       "HBox(children=(IntProgress(value=1, bar_style='info', max=1), HTML(value='')))"
      ]
     },
     "metadata": {},
     "output_type": "display_data"
    },
    {
     "name": "stdout",
     "output_type": "stream",
     "text": [
      "\n",
      "Processing  13 .  Emberizacitrinella ...\n"
     ]
    },
    {
     "data": {
      "application/vnd.jupyter.widget-view+json": {
       "model_id": "39bda416d11442f2928336a527c2546b",
       "version_major": 2,
       "version_minor": 0
      },
      "text/plain": [
       "HBox(children=(IntProgress(value=1, bar_style='info', max=1), HTML(value='')))"
      ]
     },
     "metadata": {},
     "output_type": "display_data"
    },
    {
     "name": "stdout",
     "output_type": "stream",
     "text": [
      "\n",
      "Processing  14 .  Columbapalumbus ...\n"
     ]
    },
    {
     "data": {
      "application/vnd.jupyter.widget-view+json": {
       "model_id": "02ba14c7e22642368ac1afc701ed42e0",
       "version_major": 2,
       "version_minor": 0
      },
      "text/plain": [
       "HBox(children=(IntProgress(value=1, bar_style='info', max=1), HTML(value='')))"
      ]
     },
     "metadata": {},
     "output_type": "display_data"
    },
    {
     "name": "stdout",
     "output_type": "stream",
     "text": [
      "\n",
      "Processing  15 .  Troglodytestroglodytes ...\n"
     ]
    },
    {
     "data": {
      "application/vnd.jupyter.widget-view+json": {
       "model_id": "614f93ca70af45dd87e8147ddc2ada8a",
       "version_major": 2,
       "version_minor": 0
      },
      "text/plain": [
       "HBox(children=(IntProgress(value=1, bar_style='info', max=1), HTML(value='')))"
      ]
     },
     "metadata": {},
     "output_type": "display_data"
    },
    {
     "name": "stdout",
     "output_type": "stream",
     "text": [
      "\n",
      "Processing  16 .  Cardueliscarduelis ...\n"
     ]
    },
    {
     "data": {
      "application/vnd.jupyter.widget-view+json": {
       "model_id": "a574b902389f4e108aa564406dc6b9bc",
       "version_major": 2,
       "version_minor": 0
      },
      "text/plain": [
       "HBox(children=(IntProgress(value=1, bar_style='info', max=1), HTML(value='')))"
      ]
     },
     "metadata": {},
     "output_type": "display_data"
    },
    {
     "name": "stdout",
     "output_type": "stream",
     "text": [
      "\n",
      "Processing  17 .  Chlorischloris ...\n"
     ]
    },
    {
     "data": {
      "application/vnd.jupyter.widget-view+json": {
       "model_id": "f3a93db82f644109b3f7249d1eb751dc",
       "version_major": 2,
       "version_minor": 0
      },
      "text/plain": [
       "HBox(children=(IntProgress(value=1, bar_style='info', max=1), HTML(value='')))"
      ]
     },
     "metadata": {},
     "output_type": "display_data"
    },
    {
     "name": "stdout",
     "output_type": "stream",
     "text": [
      "\n",
      "Processing  18 .  Turdusmerula ...\n"
     ]
    },
    {
     "data": {
      "application/vnd.jupyter.widget-view+json": {
       "model_id": "20ec1bf4de614665bea702ad9fb396b1",
       "version_major": 2,
       "version_minor": 0
      },
      "text/plain": [
       "HBox(children=(IntProgress(value=1, bar_style='info', max=1), HTML(value='')))"
      ]
     },
     "metadata": {},
     "output_type": "display_data"
    },
    {
     "name": "stdout",
     "output_type": "stream",
     "text": [
      "\n",
      "Number of files after cutting: \n"
     ]
    }
   ],
   "source": [
    "import warnings\n",
    "warnings.filterwarnings('ignore')\n",
    "\n",
    "import sys\n",
    "from tqdm import tqdm_notebook as tqdm\n",
    "import librosa\n",
    "import librosa.display\n",
    "import numpy as np\n",
    "import matplotlib.pyplot as plt\n",
    "\n",
    "size = {'desired': 5, # [seconds]\n",
    "        'minimum': 4, # [seconds]\n",
    "        'stride' : 0, # [seconds]\n",
    "        'name': 5 # [number of letters]\n",
    "       } # stride should not be bigger than desired length\n",
    "\n",
    "print('Number of directories to check and cut: ', len(flist))\n",
    "\n",
    "#step = (size['desired']-size['stride'])*sr # length of step between two cuts in seconds\n",
    "step=1\n",
    "if step>0:\n",
    "    for bird, birdList in enumerate(flist):\n",
    "        print(\"Processing \",bird,'. ', birds50[bird], \"...\")\n",
    "        for birdnr, path in tqdm(enumerate(birdList)):\n",
    "            # load the mp3 file\n",
    "            directory=\"../data/mels-19class/\"+str(bird)+birds50[bird][:size['name']]+\"/\"\n",
    "\n",
    "            if not os.path.exists(directory):\n",
    "                os.makedirs(directory)\n",
    "                \n",
    "            if not os.path.exists(directory+path.rsplit('/',1)[1].replace(' ', '')[:-4]+\"1_1.png\"):\n",
    "                  \n",
    "                signal, sr = librosa.load(path) # sr = sampling rate\n",
    "                step = (size['desired']-size['stride'])*sr # length of step between two cuts in seconds\n",
    "                \n",
    "                nr=0;\n",
    "                for start, end in zip(range(0,len(signal),step),range(size['desired']*sr,len(signal),step)):\n",
    "                    # cut file and save each piece\n",
    "                    nr=nr+1\n",
    "                    # save the file if its length is higher than minimum\n",
    "                    if end-start > size['minimum']*sr:\n",
    "                        melpath=path.rsplit('/',1)[1]\n",
    "                        melpath=directory+melpath.replace(' ', '')[:-4]+str(nr)+\"_\"+str(nr)+\".png\"\n",
    "                        saveMel(signal[start:end],melpath)\n",
    "                    #print('New file...',start/sr,' - ',end/sr)\n",
    "                    #print('Start: ',start,'end: ', end, 'length: ', end-start)\n",
    "                \n",
    "            pass\n",
    "else:    \n",
    "    print(\"Error: Stride should be lower than desired length.\")\n",
    "    \n",
    "print('Number of files after cutting: ')\n"
   ]
  },
  {
   "cell_type": "code",
   "execution_count": 4,
   "metadata": {},
   "outputs": [
    {
     "name": "stdout",
     "output_type": "stream",
     "text": [
      "['4Erith', '17Chlor', '8Phyll', '1Passe', '13Ember', '6Sitta', '14Colum', '16Cardu', '5Phoen', '10Phyll', '18Turdu', '9Turdu', '11Fring', '2Lusci', '0Parus', '15Trogl', '12Sturn', '7Alaud', '3Phoen']\n",
      "[]\n",
      "[]\n",
      "[]\n",
      "[]\n",
      "[]\n",
      "[]\n",
      "[]\n",
      "[]\n",
      "[]\n",
      "[]\n",
      "[]\n",
      "[]\n",
      "[]\n",
      "[]\n",
      "[]\n",
      "[]\n",
      "[]\n",
      "[]\n",
      "[]\n"
     ]
    },
    {
     "data": {
      "image/png": "[encoded data removed]",
      "text/plain": [
       "<Figure size 432x288 with 1 Axes>"
      ]
     },
     "metadata": {
      "needs_background": "light"
     },
     "output_type": "display_data"
    },
    {
     "data": {
      "image/png": "[encoded data removed]",
      "text/plain": [
       "<Figure size 432x288 with 1 Axes>"
      ]
     },
     "metadata": {
      "needs_background": "light"
     },
     "output_type": "display_data"
    },
    {
     "data": {
      "image/png": "[encoded data removed]",
      "text/plain": [
       "<Figure size 432x288 with 1 Axes>"
      ]
     },
     "metadata": {
      "needs_background": "light"
     },
     "output_type": "display_data"
    },
    {
     "data": {
      "image/png": "[encoded data removed]",
      "text/plain": [
       "<Figure size 432x288 with 1 Axes>"
      ]
     },
     "metadata": {
      "needs_background": "light"
     },
     "output_type": "display_data"
    },
    {
     "name": "stdout",
     "output_type": "stream",
     "text": [
      "Found  149273  files\n"
     ]
    }
   ],
   "source": [
    "# Test\n",
    "import matplotlib.image as mpimg\n",
    "ilist=[]\n",
    "for root, dirs, files in os.walk(\"../data/mels-19class/\"):\n",
    "    print(dirs)\n",
    "    for file in files:\n",
    "        if file.endswith(\".png\"):\n",
    "            ilist.append(os.path.join(root, file))\n",
    "img=mpimg.imread(ilist[0])\n",
    "imgplot = plt.imshow(img)\n",
    "plt.show()\n",
    "img=mpimg.imread(ilist[100])\n",
    "imgplot = plt.imshow(img)\n",
    "plt.show()\n",
    "img=mpimg.imread(ilist[1000])\n",
    "imgplot = plt.imshow(img)\n",
    "plt.show()\n",
    "img=mpimg.imread(ilist[40000])\n",
    "imgplot = plt.imshow(img)\n",
    "plt.show()\n",
    "print(\"Found \",len(ilist),\" files\")"
   ]
  },
  {
   "cell_type": "code",
   "execution_count": 5,
   "metadata": {},
   "outputs": [],
   "source": [
    "#os.remove('../data/xeno-canto-dataset-full/Turdusphilomelos/Germany/Turdusphilomelos385433.mp3')"
   ]
  },
  {
   "cell_type": "code",
   "execution_count": null,
   "metadata": {},
   "outputs": [],
   "source": []
  }
 ],
 "metadata": {
  "kernelspec": {
   "display_name": "Python 3",
   "language": "python",
   "name": "python3"
  },
  "language_info": {
   "codemirror_mode": {
    "name": "ipython",
    "version": 3
   },
   "file_extension": ".py",
   "mimetype": "text/x-python",
   "name": "python",
   "nbconvert_exporter": "python",
   "pygments_lexer": "ipython3",
   "version": "3.7.3"
  }
 },
 "nbformat": 4,
 "nbformat_minor": 2
}
