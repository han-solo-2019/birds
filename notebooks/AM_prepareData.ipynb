{
 "cells": [
  {
   "cell_type": "markdown",
   "metadata": {},
   "source": [
    "# Prepare dataset\n",
    "The purpose of this file is to normalize dataset to have same size along the whole dataset in one run. \n",
    "This code finds all files from the directory and cuts each of them into smaller pieces of same *length*, optionally with a *stride*. If the  piece of a file is shorter than a *length* but still longer than a *minimum length treshold* zeroes at the end of a file are padded (to make the size equal to *length*).\n",
    "\n",
    "To-do list\n",
    "\n",
    "**Part 1**\n",
    "* [x] find all files in the directory\n",
    "* [x] prepare a strategy how to cut files: user gives file length in seconds, but we oparate on array indexes\n",
    "* [x] cut sound into pieces \n",
    "* [x] apply melspectrogram\n",
    "* [x] save files\n",
    "\n",
    "**Part 2**\n",
    "* [ ] Prepare test, validation and training sets with k-fold validation"
   ]
  },
  {
   "cell_type": "markdown",
   "metadata": {},
   "source": [
    "## Create list of all files to cut"
   ]
  },
  {
   "cell_type": "code",
   "execution_count": 1,
   "metadata": {
    "scrolled": false
   },
   "outputs": [
    {
     "name": "stdout",
     "output_type": "stream",
     "text": [
      "1 . Found  1931  files for  Parusmajor ( 1 )\n",
      "2 . Found  123  files for  Turduspilaris ( 2 )\n",
      "3 . Found  384  files for  Passerdomesticus ( 3 )\n",
      "4 . Found  396  files for  Luscinialuscinia ( 4 )\n",
      "5 . Found  518  files for  Phoenicurusphoenicurus ( 7 )\n",
      "6 . Found  1587  files for  Erithacusrubecula ( 8 )\n",
      "7 . Found  56  files for  Picapica ( 9 )\n",
      "8 . Found  358  files for  Phoenicurusochruros ( 10 )\n",
      "9 . Found  136  files for  Garrulusglandarius ( 11 )\n",
      "10 . Found  183  files for  Passermontanus ( 12 )\n",
      "11 . Found  89  files for  Coccothraustescoccothraustes ( 15 )\n",
      "12 . Found  389  files for  Sittaeuropaea ( 16 )\n",
      "13 . Found  872  files for  Alaudaarvensis ( 17 )\n",
      "14 . Found  314  files for  Streptopeliadecaocto ( 18 )\n",
      "15 . Found  2154  files for  Phylloscopustrochilus ( 19 )\n",
      "16 . Found  57  files for  Delichonurbicum ( 20 )\n",
      "17 . Found  1890  files for  Turdusphilomelos ( 21 )\n",
      "18 . Found  1627  files for  Phylloscopuscollybita ( 22 )\n",
      "19 . Found  2141  files for  Fringillacoelebs ( 23 )\n",
      "20 . Found  380  files for  Sturnusvulgaris ( 24 )\n",
      "21 . Found  1452  files for  Emberizacitrinella ( 25 )\n",
      "22 . Found  265  files for  Columbapalumbus ( 26 )\n",
      "23 . Found  1296  files for  Troglodytestroglodytes ( 27 )\n",
      "24 . Found  628  files for  Cardueliscarduelis ( 30 )\n",
      "25 . Found  627  files for  Chlorischloris ( 31 )\n",
      "26 . Found  158  files for  Motacillaalba ( 32 )\n",
      "27 . Found  2045  files for  Turdusmerula ( 33 )\n",
      "['Parusmajor', 'Turduspilaris', 'Passerdomesticus', 'Luscinialuscinia', 'Phoenicurusphoenicurus', 'Erithacusrubecula', 'Picapica', 'Phoenicurusochruros', 'Garrulusglandarius', 'Passermontanus', 'Coccothraustescoccothraustes', 'Sittaeuropaea', 'Alaudaarvensis', 'Streptopeliadecaocto', 'Phylloscopustrochilus', 'Delichonurbicum', 'Turdusphilomelos', 'Phylloscopuscollybita', 'Fringillacoelebs', 'Sturnusvulgaris', 'Emberizacitrinella', 'Columbapalumbus', 'Troglodytestroglodytes', 'Cardueliscarduelis', 'Chlorischloris', 'Motacillaalba', 'Turdusmerula']\n",
      "../data/xeno-canto-dataset-full-all-Countries/Turdusmerula/all\n"
     ]
    }
   ],
   "source": [
    "%matplotlib inline\n",
    "import matplotlib\n",
    "matplotlib.interactive(False)\n",
    "matplotlib.use('Agg')\n",
    "\n",
    "# find all of the files in the directory\n",
    "import os\n",
    "import gc\n",
    "basePath=\"../data/xeno-canto-dataset-full-all-Countries/\"\n",
    "melsPath= \"../data/mels-27class/\"\n",
    "\n",
    "birds=[] # list of all birds\n",
    "for root, dirs, files in os.walk(basePath):\n",
    "    if root == basePath:\n",
    "        birds=dirs\n",
    "birds50=[]                \n",
    "flist=[] # list of all files\n",
    "blist=[] # list of files for one bird \n",
    "i50=0;\n",
    "for i, bird in enumerate(birds):\n",
    "    for root, dirs, files in os.walk(basePath+bird):\n",
    "        for file in files:\n",
    "            if file.endswith(\".mp3\"):\n",
    "                blist.append(os.path.join(root, file))\n",
    "    if len(blist) > 50:\n",
    "        i50 = i50+1;\n",
    "        print(i50, \". Found \", len(blist), ' files for ', bird ,'(',i+1,')')\n",
    "        birds50.append(bird)\n",
    "        flist.append(blist)\n",
    "    blist=[]\n",
    "print(birds50) \n",
    "print(root)"
   ]
  },
  {
   "cell_type": "markdown",
   "metadata": {},
   "source": [
    "## Find strategy to cut the file\n",
    "We want to cut files to smaller pieces of the desired size (5 seconds in example), and stride of 1 second. Stride tells us how different pieces of files will overlap at each other."
   ]
  },
  {
   "cell_type": "code",
   "execution_count": 2,
   "metadata": {},
   "outputs": [],
   "source": [
    "def saveMel(signal, directory):\n",
    "    gc.enable()\n",
    "    # MK_spectrogram modified\n",
    "    N_FFT = 1024         # \n",
    "    HOP_SIZE = 1024      #  \n",
    "    N_MELS = 128          # Higher   \n",
    "    WIN_SIZE = 1024      # \n",
    "    WINDOW_TYPE = 'hann' # \n",
    "    FEATURE = 'mel'      # \n",
    "    FMIN = 1400\n",
    "\n",
    "    fig = plt.figure(1,frameon=False)\n",
    "    fig.set_size_inches(6,6)\n",
    "\n",
    "    ax = plt.Axes(fig, [0., 0., 1., 1.])\n",
    "    ax.set_axis_off()\n",
    "    fig.add_axes(ax)\n",
    "    \n",
    "    S = librosa.feature.melspectrogram(y=signal, sr=sr,\n",
    "                                        n_fft=N_FFT,\n",
    "                                        hop_length=HOP_SIZE, \n",
    "                                        n_mels=N_MELS, \n",
    "                                        htk=True, \n",
    "                                        fmin=FMIN, # higher limit ##high-pass filter freq.\n",
    "                                        fmax=sr/2) # AMPLITUDE\n",
    "    librosa.display.specshow(librosa.power_to_db(S**2,ref=np.max), fmin=FMIN) #power = S**2\n",
    "\n",
    "    fig.savefig(directory)\n",
    "    plt.ioff()\n",
    "    #plt.show(block=False)\n",
    "    fig.clf()\n",
    "    ax.cla()\n",
    "    plt.clf()\n",
    "    plt.close('all')"
   ]
  },
  {
   "cell_type": "code",
   "execution_count": 3,
   "metadata": {
    "scrolled": false
   },
   "outputs": [
    {
     "name": "stdout",
     "output_type": "stream",
     "text": [
      "Number of directories to check and cut:  27\n",
      "Processing  0 .  Parusmajor ...\n"
     ]
    },
    {
     "data": {
      "application/vnd.jupyter.widget-view+json": {
       "model_id": "e37ec52a02574e3ebcbd40e5cbea593a",
       "version_major": 2,
       "version_minor": 0
      },
      "text/plain": [
       "HBox(children=(IntProgress(value=1, bar_style='info', max=1), HTML(value='')))"
      ]
     },
     "metadata": {},
     "output_type": "display_data"
    },
    {
     "name": "stdout",
     "output_type": "stream",
     "text": [
      "\n",
      "Processing  1 .  Turduspilaris ...\n"
     ]
    },
    {
     "data": {
      "application/vnd.jupyter.widget-view+json": {
       "model_id": "82bdd68686b04ef5bfde0a64fa9f4586",
       "version_major": 2,
       "version_minor": 0
      },
      "text/plain": [
       "HBox(children=(IntProgress(value=1, bar_style='info', max=1), HTML(value='')))"
      ]
     },
     "metadata": {},
     "output_type": "display_data"
    },
    {
     "name": "stdout",
     "output_type": "stream",
     "text": [
      "\n",
      "Processing  2 .  Passerdomesticus ...\n"
     ]
    },
    {
     "data": {
      "application/vnd.jupyter.widget-view+json": {
       "model_id": "7a10785725bd48eab3d68aae4bb8e3c7",
       "version_major": 2,
       "version_minor": 0
      },
      "text/plain": [
       "HBox(children=(IntProgress(value=1, bar_style='info', max=1), HTML(value='')))"
      ]
     },
     "metadata": {},
     "output_type": "display_data"
    },
    {
     "name": "stdout",
     "output_type": "stream",
     "text": [
      "\n",
      "Processing  3 .  Luscinialuscinia ...\n"
     ]
    },
    {
     "data": {
      "application/vnd.jupyter.widget-view+json": {
       "model_id": "88c368115f964a409af4d3d7f9ca3af5",
       "version_major": 2,
       "version_minor": 0
      },
      "text/plain": [
       "HBox(children=(IntProgress(value=1, bar_style='info', max=1), HTML(value='')))"
      ]
     },
     "metadata": {},
     "output_type": "display_data"
    },
    {
     "name": "stdout",
     "output_type": "stream",
     "text": [
      "\n",
      "Processing  4 .  Phoenicurusphoenicurus ...\n"
     ]
    },
    {
     "data": {
      "application/vnd.jupyter.widget-view+json": {
       "model_id": "a7acf33535f548af9ffa83e0e0c60cd3",
       "version_major": 2,
       "version_minor": 0
      },
      "text/plain": [
       "HBox(children=(IntProgress(value=1, bar_style='info', max=1), HTML(value='')))"
      ]
     },
     "metadata": {},
     "output_type": "display_data"
    },
    {
     "name": "stdout",
     "output_type": "stream",
     "text": [
      "\n",
      "Processing  5 .  Erithacusrubecula ...\n"
     ]
    },
    {
     "data": {
      "application/vnd.jupyter.widget-view+json": {
       "model_id": "d45f5ac8f44a444792874897a878daac",
       "version_major": 2,
       "version_minor": 0
      },
      "text/plain": [
       "HBox(children=(IntProgress(value=1, bar_style='info', max=1), HTML(value='')))"
      ]
     },
     "metadata": {},
     "output_type": "display_data"
    },
    {
     "name": "stdout",
     "output_type": "stream",
     "text": [
      "\n",
      "Processing  6 .  Picapica ...\n"
     ]
    },
    {
     "data": {
      "application/vnd.jupyter.widget-view+json": {
       "model_id": "19cab3f857bf4d1f944bbe11e9aaf347",
       "version_major": 2,
       "version_minor": 0
      },
      "text/plain": [
       "HBox(children=(IntProgress(value=1, bar_style='info', max=1), HTML(value='')))"
      ]
     },
     "metadata": {},
     "output_type": "display_data"
    },
    {
     "name": "stdout",
     "output_type": "stream",
     "text": [
      "\n",
      "Processing  7 .  Phoenicurusochruros ...\n"
     ]
    },
    {
     "data": {
      "application/vnd.jupyter.widget-view+json": {
       "model_id": "5269829894e44b9db8f1a19122baf93c",
       "version_major": 2,
       "version_minor": 0
      },
      "text/plain": [
       "HBox(children=(IntProgress(value=1, bar_style='info', max=1), HTML(value='')))"
      ]
     },
     "metadata": {},
     "output_type": "display_data"
    },
    {
     "name": "stdout",
     "output_type": "stream",
     "text": [
      "\n",
      "Processing  8 .  Garrulusglandarius ...\n"
     ]
    },
    {
     "data": {
      "application/vnd.jupyter.widget-view+json": {
       "model_id": "a68fd5ffd54f4672bcc5e428d8c45ee3",
       "version_major": 2,
       "version_minor": 0
      },
      "text/plain": [
       "HBox(children=(IntProgress(value=1, bar_style='info', max=1), HTML(value='')))"
      ]
     },
     "metadata": {},
     "output_type": "display_data"
    },
    {
     "name": "stdout",
     "output_type": "stream",
     "text": [
      "\n",
      "Processing  9 .  Passermontanus ...\n"
     ]
    },
    {
     "data": {
      "application/vnd.jupyter.widget-view+json": {
       "model_id": "97d8ee300e82406394e4496f1457cec5",
       "version_major": 2,
       "version_minor": 0
      },
      "text/plain": [
       "HBox(children=(IntProgress(value=1, bar_style='info', max=1), HTML(value='')))"
      ]
     },
     "metadata": {},
     "output_type": "display_data"
    },
    {
     "name": "stdout",
     "output_type": "stream",
     "text": [
      "\n",
      "Processing  10 .  Coccothraustescoccothraustes ...\n"
     ]
    },
    {
     "data": {
      "application/vnd.jupyter.widget-view+json": {
       "model_id": "c5381930feee40e69bfc9874ddc9cfdc",
       "version_major": 2,
       "version_minor": 0
      },
      "text/plain": [
       "HBox(children=(IntProgress(value=1, bar_style='info', max=1), HTML(value='')))"
      ]
     },
     "metadata": {},
     "output_type": "display_data"
    },
    {
     "name": "stdout",
     "output_type": "stream",
     "text": [
      "\n",
      "Processing  11 .  Sittaeuropaea ...\n"
     ]
    },
    {
     "data": {
      "application/vnd.jupyter.widget-view+json": {
       "model_id": "ad19ac7e7f9e4e279758610f36061dae",
       "version_major": 2,
       "version_minor": 0
      },
      "text/plain": [
       "HBox(children=(IntProgress(value=1, bar_style='info', max=1), HTML(value='')))"
      ]
     },
     "metadata": {},
     "output_type": "display_data"
    },
    {
     "name": "stdout",
     "output_type": "stream",
     "text": [
      "\n",
      "Processing  12 .  Alaudaarvensis ...\n"
     ]
    },
    {
     "data": {
      "application/vnd.jupyter.widget-view+json": {
       "model_id": "f769022b5e0246498bd71c597f7ede75",
       "version_major": 2,
       "version_minor": 0
      },
      "text/plain": [
       "HBox(children=(IntProgress(value=1, bar_style='info', max=1), HTML(value='')))"
      ]
     },
     "metadata": {},
     "output_type": "display_data"
    },
    {
     "name": "stdout",
     "output_type": "stream",
     "text": [
      "\n",
      "Processing  13 .  Streptopeliadecaocto ...\n"
     ]
    },
    {
     "data": {
      "application/vnd.jupyter.widget-view+json": {
       "model_id": "1d9cdf0a290b423ab36f7cc4c5b987e1",
       "version_major": 2,
       "version_minor": 0
      },
      "text/plain": [
       "HBox(children=(IntProgress(value=1, bar_style='info', max=1), HTML(value='')))"
      ]
     },
     "metadata": {},
     "output_type": "display_data"
    },
    {
     "name": "stdout",
     "output_type": "stream",
     "text": [
      "\n",
      "Processing  14 .  Phylloscopustrochilus ...\n"
     ]
    },
    {
     "data": {
      "application/vnd.jupyter.widget-view+json": {
       "model_id": "643b2003dcef4d3b845e8b7f3635631c",
       "version_major": 2,
       "version_minor": 0
      },
      "text/plain": [
       "HBox(children=(IntProgress(value=1, bar_style='info', max=1), HTML(value='')))"
      ]
     },
     "metadata": {},
     "output_type": "display_data"
    },
    {
     "name": "stdout",
     "output_type": "stream",
     "text": [
      "\n",
      "Processing  15 .  Delichonurbicum ...\n"
     ]
    },
    {
     "data": {
      "application/vnd.jupyter.widget-view+json": {
       "model_id": "b5d8ae75e7ec4c75a77f84cd2d843f43",
       "version_major": 2,
       "version_minor": 0
      },
      "text/plain": [
       "HBox(children=(IntProgress(value=1, bar_style='info', max=1), HTML(value='')))"
      ]
     },
     "metadata": {},
     "output_type": "display_data"
    },
    {
     "name": "stdout",
     "output_type": "stream",
     "text": [
      "\n",
      "Processing  16 .  Turdusphilomelos ...\n"
     ]
    },
    {
     "data": {
      "application/vnd.jupyter.widget-view+json": {
       "model_id": "a5c0a887c11d4b41bb8a90ff6b119849",
       "version_major": 2,
       "version_minor": 0
      },
      "text/plain": [
       "HBox(children=(IntProgress(value=1, bar_style='info', max=1), HTML(value='')))"
      ]
     },
     "metadata": {},
     "output_type": "display_data"
    },
    {
     "name": "stdout",
     "output_type": "stream",
     "text": [
      "\n",
      "Processing  17 .  Phylloscopuscollybita ...\n"
     ]
    },
    {
     "data": {
      "application/vnd.jupyter.widget-view+json": {
       "model_id": "23064ee8047c4c4f96b089ac8808c509",
       "version_major": 2,
       "version_minor": 0
      },
      "text/plain": [
       "HBox(children=(IntProgress(value=1, bar_style='info', max=1), HTML(value='')))"
      ]
     },
     "metadata": {},
     "output_type": "display_data"
    },
    {
     "name": "stdout",
     "output_type": "stream",
     "text": [
      "\n",
      "Processing  18 .  Fringillacoelebs ...\n"
     ]
    },
    {
     "data": {
      "application/vnd.jupyter.widget-view+json": {
       "model_id": "4ef5e8beafa543aeac09afa2fec3b115",
       "version_major": 2,
       "version_minor": 0
      },
      "text/plain": [
       "HBox(children=(IntProgress(value=1, bar_style='info', max=1), HTML(value='')))"
      ]
     },
     "metadata": {},
     "output_type": "display_data"
    },
    {
     "name": "stdout",
     "output_type": "stream",
     "text": [
      "\n",
      "Processing  19 .  Sturnusvulgaris ...\n"
     ]
    },
    {
     "data": {
      "application/vnd.jupyter.widget-view+json": {
       "model_id": "01f991ac31da4e3a9fce9cbaea1adf40",
       "version_major": 2,
       "version_minor": 0
      },
      "text/plain": [
       "HBox(children=(IntProgress(value=1, bar_style='info', max=1), HTML(value='')))"
      ]
     },
     "metadata": {},
     "output_type": "display_data"
    },
    {
     "name": "stdout",
     "output_type": "stream",
     "text": [
      "\n",
      "Processing  20 .  Emberizacitrinella ...\n"
     ]
    },
    {
     "data": {
      "application/vnd.jupyter.widget-view+json": {
       "model_id": "9455d1e00e864e9e882217f9066eef64",
       "version_major": 2,
       "version_minor": 0
      },
      "text/plain": [
       "HBox(children=(IntProgress(value=1, bar_style='info', max=1), HTML(value='')))"
      ]
     },
     "metadata": {},
     "output_type": "display_data"
    },
    {
     "name": "stdout",
     "output_type": "stream",
     "text": [
      "\n",
      "Processing  21 .  Columbapalumbus ...\n"
     ]
    },
    {
     "data": {
      "application/vnd.jupyter.widget-view+json": {
       "model_id": "ec0a4cd16c3549ee9fb4d59456e18263",
       "version_major": 2,
       "version_minor": 0
      },
      "text/plain": [
       "HBox(children=(IntProgress(value=1, bar_style='info', max=1), HTML(value='')))"
      ]
     },
     "metadata": {},
     "output_type": "display_data"
    },
    {
     "name": "stdout",
     "output_type": "stream",
     "text": [
      "\n",
      "Processing  22 .  Troglodytestroglodytes ...\n"
     ]
    },
    {
     "data": {
      "application/vnd.jupyter.widget-view+json": {
       "model_id": "07267e0e96eb4563b7f69eeab4112ae8",
       "version_major": 2,
       "version_minor": 0
      },
      "text/plain": [
       "HBox(children=(IntProgress(value=1, bar_style='info', max=1), HTML(value='')))"
      ]
     },
     "metadata": {},
     "output_type": "display_data"
    },
    {
     "name": "stdout",
     "output_type": "stream",
     "text": [
      "\n",
      "Processing  23 .  Cardueliscarduelis ...\n"
     ]
    },
    {
     "data": {
      "application/vnd.jupyter.widget-view+json": {
       "model_id": "f69d48ab14434bd6b624ba201e77ad76",
       "version_major": 2,
       "version_minor": 0
      },
      "text/plain": [
       "HBox(children=(IntProgress(value=1, bar_style='info', max=1), HTML(value='')))"
      ]
     },
     "metadata": {},
     "output_type": "display_data"
    },
    {
     "name": "stdout",
     "output_type": "stream",
     "text": [
      "\n",
      "Processing  24 .  Chlorischloris ...\n"
     ]
    },
    {
     "data": {
      "application/vnd.jupyter.widget-view+json": {
       "model_id": "cab8cd2eb6a34a4fa6c1e12751420e3e",
       "version_major": 2,
       "version_minor": 0
      },
      "text/plain": [
       "HBox(children=(IntProgress(value=1, bar_style='info', max=1), HTML(value='')))"
      ]
     },
     "metadata": {},
     "output_type": "display_data"
    },
    {
     "name": "stdout",
     "output_type": "stream",
     "text": [
      "\n",
      "Processing  25 .  Motacillaalba ...\n"
     ]
    },
    {
     "data": {
      "application/vnd.jupyter.widget-view+json": {
       "model_id": "5847673299364db8b609e3209a18cf59",
       "version_major": 2,
       "version_minor": 0
      },
      "text/plain": [
       "HBox(children=(IntProgress(value=1, bar_style='info', max=1), HTML(value='')))"
      ]
     },
     "metadata": {},
     "output_type": "display_data"
    },
    {
     "name": "stdout",
     "output_type": "stream",
     "text": [
      "\n",
      "Processing  26 .  Turdusmerula ...\n"
     ]
    },
    {
     "data": {
      "application/vnd.jupyter.widget-view+json": {
       "model_id": "43ddd85a44304350943cc29c281772d9",
       "version_major": 2,
       "version_minor": 0
      },
      "text/plain": [
       "HBox(children=(IntProgress(value=1, bar_style='info', max=1), HTML(value='')))"
      ]
     },
     "metadata": {},
     "output_type": "display_data"
    },
    {
     "name": "stdout",
     "output_type": "stream",
     "text": [
      "\n",
      "Number of files after cutting: \n"
     ]
    }
   ],
   "source": [
    "import warnings\n",
    "warnings.filterwarnings('ignore')\n",
    "\n",
    "import sys\n",
    "from tqdm import tqdm_notebook as tqdm\n",
    "import librosa\n",
    "import librosa.display\n",
    "import numpy as np\n",
    "import matplotlib.pyplot as plt\n",
    "\n",
    "size = {'desired': 5, # [seconds]\n",
    "        'minimum': 4, # [seconds]\n",
    "        'stride' : 0, # [seconds]\n",
    "        'name': 5 # [number of letters]\n",
    "       } # stride should not be bigger than desired length\n",
    "\n",
    "print('Number of directories to check and cut: ', len(flist))\n",
    "\n",
    "#step = (size['desired']-size['stride'])*sr # length of step between two cuts in seconds\n",
    "step=1\n",
    "if step>0:\n",
    "    for bird, birdList in enumerate(flist):\n",
    "        print(\"Processing \",bird,'. ', birds50[bird], \"...\")\n",
    "        for birdnr, path in tqdm(enumerate(birdList)):\n",
    "            # load the mp3 file\n",
    "            directory=melsPath+str(bird)+birds50[bird][:size['name']]+\"/\"\n",
    "\n",
    "            if not os.path.exists(directory):\n",
    "                os.makedirs(directory)\n",
    "                \n",
    "            if not os.path.exists(directory+path.rsplit('/',1)[1].replace(' ', '')[:-4]+\"1_1.png\"):\n",
    "                  \n",
    "                signal, sr = librosa.load(path) # sr = sampling rate\n",
    "                step = (size['desired']-size['stride'])*sr # length of step between two cuts in seconds\n",
    "                \n",
    "                nr=0;\n",
    "                for start, end in zip(range(0,len(signal),step),range(size['desired']*sr,len(signal),step)):\n",
    "                    # cut file and save each piece\n",
    "                    nr=nr+1\n",
    "                    # save the file if its length is higher than minimum\n",
    "                    if end-start > size['minimum']*sr:\n",
    "                        melpath=path.rsplit('/',1)[1]\n",
    "                        melpath=directory+melpath.replace(' ', '')[:-4]+str(nr)+\"_\"+str(nr)+\".png\"\n",
    "                        saveMel(signal[start:end],melpath)\n",
    "                    #print('New file...',start/sr,' - ',end/sr)\n",
    "                    #print('Start: ',start,'end: ', end, 'length: ', end-start)\n",
    "                \n",
    "            pass\n",
    "else:    \n",
    "    print(\"Error: Stride should be lower than desired length.\")\n",
    "    \n",
    "print('Number of files after cutting: ')\n"
   ]
  },
  {
   "cell_type": "code",
   "execution_count": 4,
   "metadata": {},
   "outputs": [
    {
     "name": "stdout",
     "output_type": "stream",
     "text": [
      "['15Delic', '5Erith', '4Phoen', '20Ember', '16Turdu', '6Picap', '21Colum', '13Strep', '11Sitta', '10Cocco', '18Fring', '26Turdu', '23Cardu', '12Alaud', '24Chlor', '25Motac', '7Phoen', '14Phyll', '8Garru', '3Lusci', '1Turdu', '0Parus', '19Sturn', '17Phyll', '2Passe', '22Trogl', '9Passe']\n",
      "[]\n",
      "[]\n",
      "[]\n",
      "[]\n",
      "[]\n",
      "[]\n",
      "[]\n",
      "[]\n",
      "[]\n",
      "[]\n",
      "[]\n",
      "[]\n",
      "[]\n",
      "[]\n",
      "[]\n",
      "[]\n",
      "[]\n",
      "[]\n",
      "[]\n",
      "[]\n",
      "[]\n",
      "[]\n",
      "[]\n",
      "[]\n",
      "[]\n",
      "[]\n",
      "[]\n"
     ]
    },
    {
     "data": {
      "image/png": "[encoded data removed]",
      "text/plain": [
       "<Figure size 432x288 with 1 Axes>"
      ]
     },
     "metadata": {
      "needs_background": "light"
     },
     "output_type": "display_data"
    },
    {
     "data": {
      "image/png": "[encoded data removed]",
      "text/plain": [
       "<Figure size 432x288 with 1 Axes>"
      ]
     },
     "metadata": {
      "needs_background": "light"
     },
     "output_type": "display_data"
    },
    {
     "data": {
      "image/png": "[encoded data removed]",
      "text/plain": [
       "<Figure size 432x288 with 1 Axes>"
      ]
     },
     "metadata": {
      "needs_background": "light"
     },
     "output_type": "display_data"
    },
    {
     "data": {
      "image/png": "[encoded data removed]",
      "text/plain": [
       "<Figure size 432x288 with 1 Axes>"
      ]
     },
     "metadata": {
      "needs_background": "light"
     },
     "output_type": "display_data"
    },
    {
     "name": "stdout",
     "output_type": "stream",
     "text": [
      "Found  498837  files\n"
     ]
    }
   ],
   "source": [
    "# Test\n",
    "import matplotlib.image as mpimg\n",
    "ilist=[]\n",
    "for root, dirs, files in os.walk(melsPath):\n",
    "    print(dirs)\n",
    "    for file in files:\n",
    "        if file.endswith(\".png\"):\n",
    "            ilist.append(os.path.join(root, file))\n",
    "img=mpimg.imread(ilist[0])\n",
    "imgplot = plt.imshow(img)\n",
    "plt.show()\n",
    "img=mpimg.imread(ilist[100])\n",
    "imgplot = plt.imshow(img)\n",
    "plt.show()\n",
    "img=mpimg.imread(ilist[1000])\n",
    "imgplot = plt.imshow(img)\n",
    "plt.show()\n",
    "img=mpimg.imread(ilist[40000])\n",
    "imgplot = plt.imshow(img)\n",
    "plt.show()\n",
    "print(\"Found \",len(ilist),\" files\")"
   ]
  },
  {
   "cell_type": "code",
   "execution_count": 5,
   "metadata": {},
   "outputs": [],
   "source": [
    "#print(path)\n",
    "#os.remove(path)"
   ]
  },
  {
   "cell_type": "code",
   "execution_count": null,
   "metadata": {},
   "outputs": [],
   "source": []
  }
 ],
 "metadata": {
  "kernelspec": {
   "display_name": "Python 3",
   "language": "python",
   "name": "python3"
  },
  "language_info": {
   "codemirror_mode": {
    "name": "ipython",
    "version": 3
   },
   "file_extension": ".py",
   "mimetype": "text/x-python",
   "name": "python",
   "nbconvert_exporter": "python",
   "pygments_lexer": "ipython3",
   "version": "3.7.3"
  }
 },
 "nbformat": 4,
 "nbformat_minor": 2
}
