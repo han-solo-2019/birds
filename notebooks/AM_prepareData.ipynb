{
 "cells": [
  {
   "cell_type": "markdown",
   "metadata": {},
   "source": [
    "# Prepare dataset\n",
    "The purpose of this file is to normalize dataset to have same size along the whole dataset in one run. \n",
    "This code finds all files from the directory and cuts each of them into smaller pieces of same *length*, optionally with a *stride*. If the  piece of a file is shorter than a *length* but still longer than a *minimum length treshold* zeroes at the end of a file are padded (to make the size equal to *length*).\n",
    "\n",
    "To-do list\n",
    "\n",
    "**Part 1**\n",
    "* [x] find all files in the directory\n",
    "* [x] prepare a strategy how to cut files: user gives file length in seconds, but we oparate on array indexes\n",
    "* [ ] cut sound into pieces \n",
    "* [ ] if last file is smaller put zeroes at the end\n",
    "* [ ] any preprocessing/normalization ?\n",
    "* [ ] save files\n",
    "\n",
    "**Part 2**\n",
    "* [ ] Prepare test, validation and training sets with k-fold validation"
   ]
  },
  {
   "cell_type": "markdown",
   "metadata": {},
   "source": [
    "## Create list of all files to cut"
   ]
  },
  {
   "cell_type": "code",
   "execution_count": 1,
   "metadata": {
    "scrolled": false
   },
   "outputs": [
    {
     "name": "stdout",
     "output_type": "stream",
     "text": [
      "Found  1792  files.\n"
     ]
    }
   ],
   "source": [
    "# find all of the files in the directory\n",
    "import os\n",
    "\n",
    "flist=[]\n",
    "for root, dirs, files in os.walk(\"../data/xeno-canto-dataset/\"):\n",
    "    for file in files:\n",
    "        if file.endswith(\".mp3\"):\n",
    "            flist.append(os.path.join(root, file))\n",
    "                \n",
    "print('Found ', len(flist),' files.')"
   ]
  },
  {
   "cell_type": "markdown",
   "metadata": {},
   "source": [
    "## Find strategy to cut the file\n",
    "We want to cut files to smaller pieces of the desired size (5 seconds in example), and stride of 1 second. Stride tells us how different pieces of files will overlap at each other."
   ]
  },
  {
   "cell_type": "code",
   "execution_count": null,
   "metadata": {},
   "outputs": [],
   "source": [
    "import sys\n",
    "from tqdm import tqdm\n",
    "\n",
    "size = {'desired': 5, 'minimum': 3, 'stride' : 0} # stride should not be bigger than desired length\n",
    "\n",
    "print('Number of file before cutting: ', len(flist))\n",
    "\n",
    "step = (size['desired']-size['stride'])*sr # length of step between two cuts in seconds\n",
    "if step>0:\n",
    "    with tqdm(total=len(flist), file=sys.stdout) as pbar:\n",
    "        for path in flist:\n",
    "            pbar.set_description('Processing data...')\n",
    "            pbar.update(1)\n",
    "            signal, sr = librosa.load(path) # sr = sampling rate\n",
    "                        \n",
    "            for start, end in zip(range(0,len(signal),step),range(size['desired']*sr,len(signal),step)):\n",
    "                # cut file and save it here\n",
    "                print('New file...',start/sr,' - ',end/sr)\n",
    "                print('Start: ',start,'end: ', end, 'length: ', end-start)\n",
    "else:    \n",
    "    print(\"Error: Stride should be lower than desired length.\")\n",
    "    \n",
    "print('Number of files after cutting: ')\n"
   ]
  },
  {
   "cell_type": "code",
   "execution_count": null,
   "metadata": {},
   "outputs": [],
   "source": []
  }
 ],
 "metadata": {
  "kernelspec": {
   "display_name": "Python 3",
   "language": "python",
   "name": "python3"
  },
  "language_info": {
   "codemirror_mode": {
    "name": "ipython",
    "version": 3
   },
   "file_extension": ".py",
   "mimetype": "text/x-python",
   "name": "python",
   "nbconvert_exporter": "python",
   "pygments_lexer": "ipython3",
   "version": "3.7.3"
  }
 },
 "nbformat": 4,
 "nbformat_minor": 2
}
