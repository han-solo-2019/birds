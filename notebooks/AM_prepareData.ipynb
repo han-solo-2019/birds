{
 "cells": [
  {
   "cell_type": "markdown",
   "metadata": {},
   "source": [
    "# Prepare dataset\n",
    "The purpose of this file is to normalize dataset to have same size along the whole dataset in one run. \n",
    "This code finds all files from the directory and cuts each of them into smaller pieces of same *length*, optionally with a *stride*. If the  piece of a file is shorter than a *length* but still longer than a *minimum length treshold* zeroes at the end of a file are padded (to make the size equal to *length*).\n",
    "\n",
    "To-do list\n",
    "\n",
    "**Part 1**\n",
    "* [x] find all files in the directory\n",
    "* [x] prepare a strategy how to cut files: user gives file length in seconds, but we oparate on array indexes\n",
    "* [ ] cut sound into pieces \n",
    "* [ ] if last file is smaller put zeroes at the end\n",
    "* [ ] any preprocessing/normalization ?\n",
    "* [ ] save files\n",
    "\n",
    "**Part 2**\n",
    "* [ ] Prepare test, validation and training sets with k-fold validation"
   ]
  },
  {
   "cell_type": "markdown",
   "metadata": {},
   "source": [
    "## Create list of all files to cut"
   ]
  },
  {
   "cell_type": "code",
   "execution_count": 1,
   "metadata": {
    "scrolled": false
   },
   "outputs": [
    {
     "name": "stdout",
     "output_type": "stream",
     "text": [
      "Found  154  files for  AcrocephalusArundinaceus\n",
      "Found  326  files for  EmberizaCitrinella\n",
      "Found  418  files for  ParusMajor\n",
      "Found  310  files for  PhylloscopusCollybita\n",
      "Found  584  files for  SylviaAtricapilla\n"
     ]
    }
   ],
   "source": [
    "# find all of the files in the directory\n",
    "import os\n",
    "\n",
    "\n",
    "birds=[] # list of all birds\n",
    "for root, dirs, files in os.walk(\"../data/xeno-canto-dataset/\"):\n",
    "    if root == \"../data/xeno-canto-dataset/\":\n",
    "        birds=dirs\n",
    "                \n",
    "flist=[] # list of all files\n",
    "blist=[] # list of files for one bird \n",
    "for bird in birds:\n",
    "    for root, dirs, files in os.walk(\"../data/xeno-canto-dataset/\"+bird):\n",
    "        for file in files:\n",
    "            if file.endswith(\".mp3\"):\n",
    "                blist.append(os.path.join(root, file))\n",
    "    print(\"Found \", len(blist), ' files for ', bird)\n",
    "    flist.append(blist)\n",
    "    blist=[]\n",
    "    "
   ]
  },
  {
   "cell_type": "markdown",
   "metadata": {},
   "source": [
    "## Find strategy to cut the file\n",
    "We want to cut files to smaller pieces of the desired size (5 seconds in example), and stride of 1 second. Stride tells us how different pieces of files will overlap at each other."
   ]
  },
  {
   "cell_type": "code",
   "execution_count": 2,
   "metadata": {},
   "outputs": [],
   "source": [
    "def saveMel(signal, directory):\n",
    "    # MK_spectrogram modified\n",
    "    N_FFT = 1024         # \n",
    "    HOP_SIZE = 1024      #  \n",
    "    N_MELS = 128          # Higher   \n",
    "    WIN_SIZE = 1024      # \n",
    "    WINDOW_TYPE = 'hann' # \n",
    "    FEATURE = 'mel'      # \n",
    "    FMIN = 1400\n",
    "\n",
    "    fig = plt.figure(frameon=False)\n",
    "    fig.set_size_inches(6,6)\n",
    "\n",
    "    ax = plt.Axes(fig, [0., 0., 1., 1.])\n",
    "    ax.set_axis_off()\n",
    "    fig.add_axes(ax)\n",
    "\n",
    "    S = librosa.feature.melspectrogram(y=signal, sr=sr,\n",
    "                                        n_fft=N_FFT,\n",
    "                                        hop_length=HOP_SIZE, \n",
    "                                        n_mels=N_MELS, \n",
    "                                        htk=True, \n",
    "                                        fmin=FMIN, # higher limit ##high-pass filter freq.\n",
    "                                        fmax=sr/2) # AMPLITUDE\n",
    "    librosa.display.specshow(librosa.power_to_db(S**2,ref=np.max), fmin=FMIN) #power = S**2\n",
    "\n",
    "    fig.savefig(directory)\n",
    "    plt.close()"
   ]
  },
  {
   "cell_type": "code",
   "execution_count": 3,
   "metadata": {},
   "outputs": [
    {
     "name": "stdout",
     "output_type": "stream",
     "text": [
      "Number of directories to check and cut:  5\n",
      "Processing  AcrocephalusArundinaceus ...\n"
     ]
    },
    {
     "data": {
      "application/vnd.jupyter.widget-view+json": {
       "model_id": "770703ea6eac4f838df28ec68228a184",
       "version_major": 2,
       "version_minor": 0
      },
      "text/plain": [
       "HBox(children=(IntProgress(value=0, max=154), HTML(value='')))"
      ]
     },
     "metadata": {},
     "output_type": "display_data"
    },
    {
     "name": "stdout",
     "output_type": "stream",
     "text": [
      "AcrocephalusArundinaceus251934.mp3\n",
      "../data/mels/Acroc/AcrocephalusArundinaceus2519341_1.png\n",
      "AcrocephalusArundinaceus251934.mp3\n",
      "../data/mels/Acroc/AcrocephalusArundinaceus2519342_2.png\n",
      "AcrocephalusArundinaceus251934.mp3\n",
      "../data/mels/Acroc/AcrocephalusArundinaceus2519343_3.png\n",
      "AcrocephalusArundinaceus251934.mp3\n",
      "../data/mels/Acroc/AcrocephalusArundinaceus2519344_4.png\n",
      "AcrocephalusArundinaceus251934.mp3\n",
      "../data/mels/Acroc/AcrocephalusArundinaceus2519345_5.png\n",
      "AcrocephalusArundinaceus251934.mp3\n",
      "../data/mels/Acroc/AcrocephalusArundinaceus2519346_6.png\n",
      "AcrocephalusArundinaceus251934.mp3\n",
      "../data/mels/Acroc/AcrocephalusArundinaceus2519347_7.png\n",
      "AcrocephalusArundinaceus251934.mp3\n",
      "../data/mels/Acroc/AcrocephalusArundinaceus2519348_8.png\n",
      "AcrocephalusArundinaceus251934.mp3\n",
      "../data/mels/Acroc/AcrocephalusArundinaceus2519349_9.png\n",
      "AcrocephalusArundinaceus251934.mp3\n",
      "../data/mels/Acroc/AcrocephalusArundinaceus25193410_10.png\n",
      "AcrocephalusArundinaceus251934.mp3\n",
      "../data/mels/Acroc/AcrocephalusArundinaceus25193411_11.png\n",
      "AcrocephalusArundinaceus251934.mp3\n",
      "../data/mels/Acroc/AcrocephalusArundinaceus25193412_12.png\n",
      "AcrocephalusArundinaceus251934.mp3\n",
      "../data/mels/Acroc/AcrocephalusArundinaceus25193413_13.png\n",
      "AcrocephalusArundinaceus251934.mp3\n",
      "../data/mels/Acroc/AcrocephalusArundinaceus25193414_14.png\n",
      "AcrocephalusArundinaceus251934.mp3\n",
      "../data/mels/Acroc/AcrocephalusArundinaceus25193415_15.png\n",
      "AcrocephalusArundinaceus251934.mp3\n",
      "../data/mels/Acroc/AcrocephalusArundinaceus25193416_16.png\n",
      "AcrocephalusArundinaceus251934.mp3\n",
      "../data/mels/Acroc/AcrocephalusArundinaceus25193417_17.png\n",
      "AcrocephalusArundinaceus251934.mp3\n",
      "../data/mels/Acroc/AcrocephalusArundinaceus25193418_18.png\n"
     ]
    },
    {
     "ename": "KeyboardInterrupt",
     "evalue": "",
     "output_type": "error",
     "traceback": [
      "\u001b[1;31m---------------------------------------------------------------------------\u001b[0m",
      "\u001b[1;31mKeyboardInterrupt\u001b[0m                         Traceback (most recent call last)",
      "\u001b[1;32m<ipython-input-3-0ef4e4bc059a>\u001b[0m in \u001b[0;36m<module>\u001b[1;34m\u001b[0m\n\u001b[0;32m     22\u001b[0m             \u001b[1;32mpass\u001b[0m\u001b[1;33m\u001b[0m\u001b[1;33m\u001b[0m\u001b[0m\n\u001b[0;32m     23\u001b[0m             \u001b[1;31m# load the mp3 file\u001b[0m\u001b[1;33m\u001b[0m\u001b[1;33m\u001b[0m\u001b[1;33m\u001b[0m\u001b[0m\n\u001b[1;32m---> 24\u001b[1;33m             \u001b[0msignal\u001b[0m\u001b[1;33m,\u001b[0m \u001b[0msr\u001b[0m \u001b[1;33m=\u001b[0m \u001b[0mlibrosa\u001b[0m\u001b[1;33m.\u001b[0m\u001b[0mload\u001b[0m\u001b[1;33m(\u001b[0m\u001b[0mpath\u001b[0m\u001b[1;33m)\u001b[0m \u001b[1;31m# sr = sampling rate\u001b[0m\u001b[1;33m\u001b[0m\u001b[1;33m\u001b[0m\u001b[0m\n\u001b[0m\u001b[0;32m     25\u001b[0m             \u001b[0mstep\u001b[0m \u001b[1;33m=\u001b[0m \u001b[1;33m(\u001b[0m\u001b[0msize\u001b[0m\u001b[1;33m[\u001b[0m\u001b[1;34m'desired'\u001b[0m\u001b[1;33m]\u001b[0m\u001b[1;33m-\u001b[0m\u001b[0msize\u001b[0m\u001b[1;33m[\u001b[0m\u001b[1;34m'stride'\u001b[0m\u001b[1;33m]\u001b[0m\u001b[1;33m)\u001b[0m\u001b[1;33m*\u001b[0m\u001b[0msr\u001b[0m \u001b[1;31m# length of step between two cuts in seconds\u001b[0m\u001b[1;33m\u001b[0m\u001b[1;33m\u001b[0m\u001b[0m\n\u001b[0;32m     26\u001b[0m             \u001b[0mdirectory\u001b[0m\u001b[1;33m=\u001b[0m\u001b[1;34m\"../data/mels/\"\u001b[0m\u001b[1;33m+\u001b[0m\u001b[0mbirds\u001b[0m\u001b[1;33m[\u001b[0m\u001b[0mbird\u001b[0m\u001b[1;33m]\u001b[0m\u001b[1;33m[\u001b[0m\u001b[1;33m:\u001b[0m\u001b[0msize\u001b[0m\u001b[1;33m[\u001b[0m\u001b[1;34m'name'\u001b[0m\u001b[1;33m]\u001b[0m\u001b[1;33m]\u001b[0m\u001b[1;33m+\u001b[0m\u001b[1;34m\"/\"\u001b[0m\u001b[1;33m\u001b[0m\u001b[1;33m\u001b[0m\u001b[0m\n",
      "\u001b[1;32m~\\Anaconda3\\lib\\site-packages\\librosa\\core\\audio.py\u001b[0m in \u001b[0;36mload\u001b[1;34m(path, sr, mono, offset, duration, dtype, res_type)\u001b[0m\n\u001b[0;32m    147\u001b[0m \u001b[1;33m\u001b[0m\u001b[0m\n\u001b[0;32m    148\u001b[0m     \u001b[1;32mif\u001b[0m \u001b[0msr\u001b[0m \u001b[1;32mis\u001b[0m \u001b[1;32mnot\u001b[0m \u001b[1;32mNone\u001b[0m\u001b[1;33m:\u001b[0m\u001b[1;33m\u001b[0m\u001b[1;33m\u001b[0m\u001b[0m\n\u001b[1;32m--> 149\u001b[1;33m         \u001b[0my\u001b[0m \u001b[1;33m=\u001b[0m \u001b[0mresample\u001b[0m\u001b[1;33m(\u001b[0m\u001b[0my\u001b[0m\u001b[1;33m,\u001b[0m \u001b[0msr_native\u001b[0m\u001b[1;33m,\u001b[0m \u001b[0msr\u001b[0m\u001b[1;33m,\u001b[0m \u001b[0mres_type\u001b[0m\u001b[1;33m=\u001b[0m\u001b[0mres_type\u001b[0m\u001b[1;33m)\u001b[0m\u001b[1;33m\u001b[0m\u001b[1;33m\u001b[0m\u001b[0m\n\u001b[0m\u001b[0;32m    150\u001b[0m \u001b[1;33m\u001b[0m\u001b[0m\n\u001b[0;32m    151\u001b[0m     \u001b[1;32melse\u001b[0m\u001b[1;33m:\u001b[0m\u001b[1;33m\u001b[0m\u001b[1;33m\u001b[0m\u001b[0m\n",
      "\u001b[1;32m~\\Anaconda3\\lib\\site-packages\\librosa\\core\\audio.py\u001b[0m in \u001b[0;36mresample\u001b[1;34m(y, orig_sr, target_sr, res_type, fix, scale, **kwargs)\u001b[0m\n\u001b[0;32m    517\u001b[0m         \u001b[0my_hat\u001b[0m \u001b[1;33m=\u001b[0m \u001b[0mscipy\u001b[0m\u001b[1;33m.\u001b[0m\u001b[0msignal\u001b[0m\u001b[1;33m.\u001b[0m\u001b[0mresample_poly\u001b[0m\u001b[1;33m(\u001b[0m\u001b[0my\u001b[0m\u001b[1;33m,\u001b[0m \u001b[0mtarget_sr\u001b[0m \u001b[1;33m//\u001b[0m \u001b[0mgcd\u001b[0m\u001b[1;33m,\u001b[0m \u001b[0morig_sr\u001b[0m \u001b[1;33m//\u001b[0m \u001b[0mgcd\u001b[0m\u001b[1;33m,\u001b[0m \u001b[0maxis\u001b[0m\u001b[1;33m=\u001b[0m\u001b[1;33m-\u001b[0m\u001b[1;36m1\u001b[0m\u001b[1;33m)\u001b[0m\u001b[1;33m\u001b[0m\u001b[1;33m\u001b[0m\u001b[0m\n\u001b[0;32m    518\u001b[0m     \u001b[1;32melse\u001b[0m\u001b[1;33m:\u001b[0m\u001b[1;33m\u001b[0m\u001b[1;33m\u001b[0m\u001b[0m\n\u001b[1;32m--> 519\u001b[1;33m         \u001b[0my_hat\u001b[0m \u001b[1;33m=\u001b[0m \u001b[0mresampy\u001b[0m\u001b[1;33m.\u001b[0m\u001b[0mresample\u001b[0m\u001b[1;33m(\u001b[0m\u001b[0my\u001b[0m\u001b[1;33m,\u001b[0m \u001b[0morig_sr\u001b[0m\u001b[1;33m,\u001b[0m \u001b[0mtarget_sr\u001b[0m\u001b[1;33m,\u001b[0m \u001b[0mfilter\u001b[0m\u001b[1;33m=\u001b[0m\u001b[0mres_type\u001b[0m\u001b[1;33m,\u001b[0m \u001b[0maxis\u001b[0m\u001b[1;33m=\u001b[0m\u001b[1;33m-\u001b[0m\u001b[1;36m1\u001b[0m\u001b[1;33m)\u001b[0m\u001b[1;33m\u001b[0m\u001b[1;33m\u001b[0m\u001b[0m\n\u001b[0m\u001b[0;32m    520\u001b[0m \u001b[1;33m\u001b[0m\u001b[0m\n\u001b[0;32m    521\u001b[0m     \u001b[1;32mif\u001b[0m \u001b[0mfix\u001b[0m\u001b[1;33m:\u001b[0m\u001b[1;33m\u001b[0m\u001b[1;33m\u001b[0m\u001b[0m\n",
      "\u001b[1;32m~\\Anaconda3\\lib\\site-packages\\resampy\\core.py\u001b[0m in \u001b[0;36mresample\u001b[1;34m(x, sr_orig, sr_new, axis, filter, **kwargs)\u001b[0m\n\u001b[0;32m    118\u001b[0m     \u001b[0mx_2d\u001b[0m \u001b[1;33m=\u001b[0m \u001b[0mx\u001b[0m\u001b[1;33m.\u001b[0m\u001b[0mswapaxes\u001b[0m\u001b[1;33m(\u001b[0m\u001b[1;36m0\u001b[0m\u001b[1;33m,\u001b[0m \u001b[0maxis\u001b[0m\u001b[1;33m)\u001b[0m\u001b[1;33m.\u001b[0m\u001b[0mreshape\u001b[0m\u001b[1;33m(\u001b[0m\u001b[1;33m(\u001b[0m\u001b[0mx\u001b[0m\u001b[1;33m.\u001b[0m\u001b[0mshape\u001b[0m\u001b[1;33m[\u001b[0m\u001b[0maxis\u001b[0m\u001b[1;33m]\u001b[0m\u001b[1;33m,\u001b[0m \u001b[1;33m-\u001b[0m\u001b[1;36m1\u001b[0m\u001b[1;33m)\u001b[0m\u001b[1;33m)\u001b[0m\u001b[1;33m\u001b[0m\u001b[1;33m\u001b[0m\u001b[0m\n\u001b[0;32m    119\u001b[0m     \u001b[0my_2d\u001b[0m \u001b[1;33m=\u001b[0m \u001b[0my\u001b[0m\u001b[1;33m.\u001b[0m\u001b[0mswapaxes\u001b[0m\u001b[1;33m(\u001b[0m\u001b[1;36m0\u001b[0m\u001b[1;33m,\u001b[0m \u001b[0maxis\u001b[0m\u001b[1;33m)\u001b[0m\u001b[1;33m.\u001b[0m\u001b[0mreshape\u001b[0m\u001b[1;33m(\u001b[0m\u001b[1;33m(\u001b[0m\u001b[0my\u001b[0m\u001b[1;33m.\u001b[0m\u001b[0mshape\u001b[0m\u001b[1;33m[\u001b[0m\u001b[0maxis\u001b[0m\u001b[1;33m]\u001b[0m\u001b[1;33m,\u001b[0m \u001b[1;33m-\u001b[0m\u001b[1;36m1\u001b[0m\u001b[1;33m)\u001b[0m\u001b[1;33m)\u001b[0m\u001b[1;33m\u001b[0m\u001b[1;33m\u001b[0m\u001b[0m\n\u001b[1;32m--> 120\u001b[1;33m     \u001b[0mresample_f\u001b[0m\u001b[1;33m(\u001b[0m\u001b[0mx_2d\u001b[0m\u001b[1;33m,\u001b[0m \u001b[0my_2d\u001b[0m\u001b[1;33m,\u001b[0m \u001b[0msample_ratio\u001b[0m\u001b[1;33m,\u001b[0m \u001b[0minterp_win\u001b[0m\u001b[1;33m,\u001b[0m \u001b[0minterp_delta\u001b[0m\u001b[1;33m,\u001b[0m \u001b[0mprecision\u001b[0m\u001b[1;33m)\u001b[0m\u001b[1;33m\u001b[0m\u001b[1;33m\u001b[0m\u001b[0m\n\u001b[0m\u001b[0;32m    121\u001b[0m \u001b[1;33m\u001b[0m\u001b[0m\n\u001b[0;32m    122\u001b[0m     \u001b[1;32mreturn\u001b[0m \u001b[0my\u001b[0m\u001b[1;33m\u001b[0m\u001b[1;33m\u001b[0m\u001b[0m\n",
      "\u001b[1;31mKeyboardInterrupt\u001b[0m: "
     ]
    }
   ],
   "source": [
    "import sys\n",
    "from tqdm import tqdm_notebook as tqdm\n",
    "import librosa\n",
    "import librosa.display\n",
    "import numpy as np\n",
    "import matplotlib.pyplot as plt\n",
    "\n",
    "size = {'desired': 5, # [seconds]\n",
    "        'minimum': 4, # [seconds]\n",
    "        'stride' : 0, # [seconds]\n",
    "        'name': 5 # [number of letters]\n",
    "       } # stride should not be bigger than desired length\n",
    "\n",
    "print('Number of directories to check and cut: ', len(flist))\n",
    "\n",
    "#step = (size['desired']-size['stride'])*sr # length of step between two cuts in seconds\n",
    "step=1\n",
    "if step>0:\n",
    "    for bird, birdList in enumerate(flist):\n",
    "        print(\"Processing \", birds[bird], \"...\")\n",
    "        for path in tqdm(birdList):\n",
    "            pass\n",
    "            # load the mp3 file\n",
    "            signal, sr = librosa.load(path) # sr = sampling rate\n",
    "            step = (size['desired']-size['stride'])*sr # length of step between two cuts in seconds\n",
    "            directory=\"../data/mels/\"+birds[bird][:size['name']]+\"/\"\n",
    "\n",
    "            if not os.path.exists(directory):\n",
    "                os.makedirs(directory)\n",
    "            nr=0;\n",
    "            for start, end in zip(range(0,len(signal),step),range(size['desired']*sr,len(signal),step)):\n",
    "                # cut file and save each piece\n",
    "                nr=nr+1\n",
    "                # save the file if its length is higher than minimum\n",
    "                if end-start > size['minimum']*sr:\n",
    "                    melpath=path.rsplit('\\\\',1)[1]\n",
    "                    melpath=directory+melpath.replace(' ', '')[:-4]+str(nr)+\"_\"+str(nr)+\".png\"\n",
    "                    saveMel(signal[start:end],melpath)\n",
    "                #print('New file...',start/sr,' - ',end/sr)\n",
    "                #print('Start: ',start,'end: ', end, 'length: ', end-start)\n",
    "else:    \n",
    "    print(\"Error: Stride should be lower than desired length.\")\n",
    "    \n",
    "print('Number of files after cutting: ')\n"
   ]
  },
  {
   "cell_type": "code",
   "execution_count": null,
   "metadata": {},
   "outputs": [],
   "source": []
  }
 ],
 "metadata": {
  "kernelspec": {
   "display_name": "Python 3",
   "language": "python",
   "name": "python3"
  },
  "language_info": {
   "codemirror_mode": {
    "name": "ipython",
    "version": 3
   },
   "file_extension": ".py",
   "mimetype": "text/x-python",
   "name": "python",
   "nbconvert_exporter": "python",
   "pygments_lexer": "ipython3",
   "version": "3.7.3"
  }
 },
 "nbformat": 4,
 "nbformat_minor": 2
}
