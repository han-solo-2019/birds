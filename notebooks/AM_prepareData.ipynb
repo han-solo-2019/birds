{
 "cells": [
  {
   "cell_type": "markdown",
   "metadata": {},
   "source": [
    "# Prepare dataset\n",
    "The purpose of this file is to normalize dataset to have same size along the whole dataset in one run. \n",
    "This code finds all files from the directory and cuts each of them into smaller pieces of same *length*, optionally with a *stride*. If the  piece of a file is shorter than a *length* but still longer than a *minimum length treshold* zeroes at the end of a file are padded (to make the size equal to *length*).\n",
    "\n",
    "To-do list\n",
    "\n",
    "**Part 1**\n",
    "* [x] find all files in the directory\n",
    "* [x] prepare a strategy how to cut files: user gives file length in seconds, but we oparate on array indexes\n",
    "* [x] cut sound into pieces \n",
    "* [x] apply melspectrogram\n",
    "* [x] save files\n",
    "\n",
    "**Part 2**\n",
    "* [ ] Prepare test, validation and training sets with k-fold validation"
   ]
  },
  {
   "cell_type": "markdown",
   "metadata": {},
   "source": [
    "## Create list of all files to cut"
   ]
  },
  {
   "cell_type": "code",
   "execution_count": null,
   "metadata": {
    "scrolled": false
   },
   "outputs": [],
   "source": [
    "# find all of the files in the directory\n",
    "import os\n",
    "\n",
    "\n",
    "birds=[] # list of all birds\n",
    "for root, dirs, files in os.walk(\"../data/xeno-canto-dataset/\"):\n",
    "    if root == \"../data/xeno-canto-dataset/\":\n",
    "        birds=dirs\n",
    "                \n",
    "flist=[] # list of all files\n",
    "blist=[] # list of files for one bird \n",
    "for bird in birds:\n",
    "    for root, dirs, files in os.walk(\"../data/xeno-canto-dataset/\"+bird):\n",
    "        for file in files:\n",
    "            if file.endswith(\".mp3\"):\n",
    "                blist.append(os.path.join(root, file))\n",
    "    print(\"Found \", len(blist), ' files for ', bird)\n",
    "    flist.append(blist)\n",
    "    blist=[]\n",
    "    "
   ]
  },
  {
   "cell_type": "markdown",
   "metadata": {},
   "source": [
    "## Find strategy to cut the file\n",
    "We want to cut files to smaller pieces of the desired size (5 seconds in example), and stride of 1 second. Stride tells us how different pieces of files will overlap at each other."
   ]
  },
  {
   "cell_type": "code",
   "execution_count": null,
   "metadata": {},
   "outputs": [],
   "source": [
    "def saveMel(signal, directory):\n",
    "    # MK_spectrogram modified\n",
    "    N_FFT = 1024         # \n",
    "    HOP_SIZE = 1024      #  \n",
    "    N_MELS = 128          # Higher   \n",
    "    WIN_SIZE = 1024      # \n",
    "    WINDOW_TYPE = 'hann' # \n",
    "    FEATURE = 'mel'      # \n",
    "    FMIN = 1400\n",
    "\n",
    "    fig = plt.figure(frameon=False)\n",
    "    fig.set_size_inches(6,6)\n",
    "\n",
    "    ax = plt.Axes(fig, [0., 0., 1., 1.])\n",
    "    ax.set_axis_off()\n",
    "    fig.add_axes(ax)\n",
    "\n",
    "    S = librosa.feature.melspectrogram(y=signal, sr=sr,\n",
    "                                        n_fft=N_FFT,\n",
    "                                        hop_length=HOP_SIZE, \n",
    "                                        n_mels=N_MELS, \n",
    "                                        htk=True, \n",
    "                                        fmin=FMIN, # higher limit ##high-pass filter freq.\n",
    "                                        fmax=sr/2) # AMPLITUDE\n",
    "    librosa.display.specshow(librosa.power_to_db(S**2,ref=np.max), fmin=FMIN) #power = S**2\n",
    "\n",
    "    fig.savefig(directory)\n",
    "    plt.close()"
   ]
  },
  {
   "cell_type": "code",
   "execution_count": null,
   "metadata": {},
   "outputs": [],
   "source": [
    "import sys\n",
    "from tqdm import tqdm_notebook as tqdm\n",
    "import librosa\n",
    "import librosa.display\n",
    "import numpy as np\n",
    "import matplotlib.pyplot as plt\n",
    "\n",
    "size = {'desired': 5, # [seconds]\n",
    "        'minimum': 4, # [seconds]\n",
    "        'stride' : 0, # [seconds]\n",
    "        'name': 5 # [number of letters]\n",
    "       } # stride should not be bigger than desired length\n",
    "\n",
    "print('Number of directories to check and cut: ', len(flist))\n",
    "\n",
    "#step = (size['desired']-size['stride'])*sr # length of step between two cuts in seconds\n",
    "step=1\n",
    "if step>0:\n",
    "    for bird, birdList in enumerate(flist):\n",
    "        print(\"Processing \", birds[bird], \"...\")\n",
    "        for path in tqdm(birdList):\n",
    "            pass\n",
    "            # load the mp3 file\n",
    "            signal, sr = librosa.load(path) # sr = sampling rate\n",
    "            step = (size['desired']-size['stride'])*sr # length of step between two cuts in seconds\n",
    "            directory=\"../data/mels/\"+birds[bird][:size['name']]+\"/\"\n",
    "\n",
    "            if not os.path.exists(directory):\n",
    "                os.makedirs(directory)\n",
    "            nr=0;\n",
    "            for start, end in zip(range(0,len(signal),step),range(size['desired']*sr,len(signal),step)):\n",
    "                # cut file and save each piece\n",
    "                nr=nr+1\n",
    "                # save the file if its length is higher than minimum\n",
    "                if end-start > size['minimum']*sr:\n",
    "                    melpath=path.rsplit('\\\\',1)[1]\n",
    "                    melpath=directory+melpath.replace(' ', '')[:-4]+str(nr)+\"_\"+str(nr)+\".png\"\n",
    "                    saveMel(signal[start:end],melpath)\n",
    "                #print('New file...',start/sr,' - ',end/sr)\n",
    "                #print('Start: ',start,'end: ', end, 'length: ', end-start)\n",
    "else:    \n",
    "    print(\"Error: Stride should be lower than desired length.\")\n",
    "    \n",
    "print('Number of files after cutting: ')\n"
   ]
  },
  {
   "cell_type": "code",
   "execution_count": null,
   "metadata": {},
   "outputs": [],
   "source": []
  }
 ],
 "metadata": {
  "kernelspec": {
   "display_name": "Python 3",
   "language": "python",
   "name": "python3"
  },
  "language_info": {
   "codemirror_mode": {
    "name": "ipython",
    "version": 3
   },
   "file_extension": ".py",
   "mimetype": "text/x-python",
   "name": "python",
   "nbconvert_exporter": "python",
   "pygments_lexer": "ipython3",
   "version": "3.7.3"
  }
 },
 "nbformat": 4,
 "nbformat_minor": 2
}
