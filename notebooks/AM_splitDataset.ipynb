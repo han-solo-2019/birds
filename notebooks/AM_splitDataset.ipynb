{
 "cells": [
  {
   "cell_type": "markdown",
   "metadata": {},
   "source": [
    "# Dataset split\n",
    "\n",
    "This file divides our dataset into train, validation and test set. We can't use preprogrammed functions to do that, because we divided each of our files into other smallers (i.e. one sound to six images). Putting images made out of same mp3 file might lead to the *data leakage* and make our results *not trustworthy* and *biased*."
   ]
  },
  {
   "cell_type": "code",
   "execution_count": 71,
   "metadata": {},
   "outputs": [
    {
     "name": "stdout",
     "output_type": "stream",
     "text": [
      "['Parusmajor', 'Turduspilaris', 'Passerdomesticus', 'Luscinialuscinia', 'Dendrocoposmajor', 'Corvusmonedula', 'Phoenicurusphoenicurus', 'Erithacusrubecula', 'Picapica', 'Phoenicurusochruros', 'Garrulusglandarius', 'Passermontanus', 'Corvuscorone', 'Corvusfrugilegus', 'Coccothraustescoccothraustes', 'Sittaeuropaea', 'Alaudaarvensis', 'Streptopeliadecaocto', 'Phylloscopustrochilus', 'Delichonurbicum', 'Turdusphilomelos', 'Phylloscopuscollybita', 'Fringillacoelebs', 'Sturnusvulgaris', 'Emberizacitrinella', 'Columbapalumbus', 'Troglodytestroglodytes', 'Paruscaeruleus', 'Apusapus', 'Cardueliscarduelis', 'Chlorischloris', 'Motacillaalba', 'Turdusmerula']\n",
      "Found  418  mp3 files for  Parusmajor\n",
      "Size of train:  334 , val:  41 , test:  41\n",
      "Found  59  mp3 files for  Passerdomesticus\n",
      "Size of train:  47 , val:  5 , test:  5\n",
      "Found  107  mp3 files for  Luscinialuscinia\n",
      "Size of train:  85 , val:  10 , test:  10\n",
      "Found  111  mp3 files for  Phoenicurusphoenicurus\n",
      "Size of train:  88 , val:  11 , test:  11\n",
      "Found  446  mp3 files for  Erithacusrubecula\n",
      "Size of train:  356 , val:  44 , test:  44\n",
      "Found  80  mp3 files for  Phoenicurusochruros\n",
      "Size of train:  64 , val:  8 , test:  8\n",
      "Found  134  mp3 files for  Sittaeuropaea\n",
      "Size of train:  107 , val:  13 , test:  13\n",
      "Found  105  mp3 files for  Alaudaarvensis\n",
      "Size of train:  84 , val:  10 , test:  10\n",
      "Found  216  mp3 files for  Phylloscopustrochilus\n",
      "Size of train:  172 , val:  21 , test:  21\n",
      "Found  564  mp3 files for  Turdusphilomelos\n",
      "Size of train:  451 , val:  56 , test:  56\n",
      "Found  314  mp3 files for  Phylloscopuscollybita\n",
      "Size of train:  251 , val:  31 , test:  31\n",
      "Found  365  mp3 files for  Fringillacoelebs\n",
      "Size of train:  292 , val:  36 , test:  36\n",
      "Found  65  mp3 files for  Sturnusvulgaris\n",
      "Size of train:  52 , val:  6 , test:  6\n",
      "Found  329  mp3 files for  Emberizacitrinella\n",
      "Size of train:  263 , val:  32 , test:  32\n",
      "Found  58  mp3 files for  Columbapalumbus\n",
      "Size of train:  46 , val:  5 , test:  5\n",
      "Found  204  mp3 files for  Troglodytestroglodytes\n",
      "Size of train:  163 , val:  20 , test:  20\n",
      "Found  53  mp3 files for  Cardueliscarduelis\n",
      "Size of train:  42 , val:  5 , test:  5\n",
      "Found  97  mp3 files for  Chlorischloris\n",
      "Size of train:  77 , val:  9 , test:  9\n",
      "Found  667  mp3 files for  Turdusmerula\n",
      "Size of train:  533 , val:  66 , test:  66\n",
      "[334, 47, 85, 88, 356, 64, 107, 84, 172, 451, 251, 292, 52, 263, 46, 163, 42, 77, 533]\n",
      "[41, 5, 10, 11, 44, 8, 13, 10, 21, 56, 31, 36, 6, 32, 5, 20, 5, 9, 66]\n",
      "[43, 7, 12, 12, 46, 8, 14, 11, 23, 57, 32, 37, 7, 34, 7, 21, 6, 11, 68]\n"
     ]
    }
   ],
   "source": [
    "import os\n",
    "\n",
    "# define number of files for all sets\n",
    "train = 0.8 # 80% of all sound should be in the train set\n",
    "val = 0.1 \n",
    "test = 0.1\n",
    "kfolds = 1\n",
    "\n",
    "# first find all of the mp3 files in the directory\n",
    "birds=[] # list of all birds (Ember, Phyll...)\n",
    "blist=[] # list of files for one bird\n",
    "flist=[] # list of all files for all birds. A list of blists. \n",
    "for root, dirs, files in os.walk(\"../data/xeno-canto-dataset-full/\"):\n",
    "    if root == \"../data/xeno-canto-dataset-full/\":\n",
    "        birds=dirs\n",
    "print(birds)\n",
    "\n",
    "trainSet=[]\n",
    "testSet=[]\n",
    "valSet=[]\n",
    "\n",
    "birdsShort=[]\n",
    "i50=0\n",
    "for nr,bird in enumerate(birds):\n",
    "    for root, dirs, files in os.walk(\"../data/xeno-canto-dataset-full/\"+bird):\n",
    "        for file in files:\n",
    "            if file.endswith(\".mp3\"):\n",
    "                blist.append(os.path.join(root, file))\n",
    "    if len(blist) > 50:\n",
    "        birdsShort.append(str(i50)+bird[:5])\n",
    "        i50 = i50+1;\n",
    "        print(\"Found \", len(blist), ' mp3 files for ', bird)\n",
    "        #i50 = i50+1;\n",
    "        #print(i50, \". Found \", len(blist), ' files for ', bird ,'(',i+1,')')\n",
    "        #birds50.append(bird)\n",
    "        #flist.append(blist)\n",
    "        trainSet.append(int(train*len(blist)))\n",
    "        valSet.append(int(val*len(blist)))\n",
    "        roundDiff = len(blist)-(int(train*len(blist))+int(test*len(blist))+int(val*len(blist))) \n",
    "        testSet.append(int(test*len(blist)) + roundDiff)\n",
    "        print(\"Size of train: \", int(train*len(blist)),\", val: \",int(val*len(blist)) ,\", test: \",int(test*len(blist)))\n",
    "        flist.append(blist)\n",
    "    blist=[]\n",
    "\n",
    "\n",
    "print(trainSet)\n",
    "print(valSet)\n",
    "print(testSet)\n"
   ]
  },
  {
   "cell_type": "code",
   "execution_count": 58,
   "metadata": {},
   "outputs": [
    {
     "name": "stdout",
     "output_type": "stream",
     "text": [
      "Selected random files number:\n",
      " train:  334 / 334 , val:  41 / 41 , test:  43 / 43\n",
      "Selected random files number:\n",
      " train:  47 / 47 , val:  5 / 5 , test:  7 / 7\n",
      "Selected random files number:\n",
      " train:  85 / 85 , val:  10 / 10 , test:  12 / 12\n",
      "Selected random files number:\n",
      " train:  88 / 88 , val:  11 / 11 , test:  12 / 12\n",
      "Selected random files number:\n",
      " train:  356 / 356 , val:  44 / 44 , test:  46 / 46\n",
      "Selected random files number:\n",
      " train:  64 / 64 , val:  8 / 8 , test:  8 / 8\n",
      "Selected random files number:\n",
      " train:  107 / 107 , val:  13 / 13 , test:  14 / 14\n",
      "Selected random files number:\n",
      " train:  84 / 84 , val:  10 / 10 , test:  11 / 11\n",
      "Selected random files number:\n",
      " train:  172 / 172 , val:  21 / 21 , test:  23 / 23\n",
      "Selected random files number:\n",
      " train:  451 / 451 , val:  56 / 56 , test:  57 / 57\n",
      "Selected random files number:\n",
      " train:  251 / 251 , val:  31 / 31 , test:  32 / 32\n",
      "Selected random files number:\n",
      " train:  292 / 292 , val:  36 / 36 , test:  37 / 37\n",
      "Selected random files number:\n",
      " train:  52 / 52 , val:  6 / 6 , test:  7 / 7\n",
      "Selected random files number:\n",
      " train:  263 / 263 , val:  32 / 32 , test:  34 / 34\n",
      "Selected random files number:\n",
      " train:  46 / 46 , val:  5 / 5 , test:  7 / 7\n",
      "Selected random files number:\n",
      " train:  163 / 163 , val:  20 / 20 , test:  21 / 21\n",
      "Selected random files number:\n",
      " train:  42 / 42 , val:  5 / 5 , test:  6 / 6\n",
      "Selected random files number:\n",
      " train:  77 / 77 , val:  9 / 9 , test:  11 / 11\n",
      "Selected random files number:\n",
      " train:  533 / 533 , val:  66 / 66 , test:  68 / 68\n"
     ]
    }
   ],
   "source": [
    "# randomly choose mp3 files for each set  \n",
    "\n",
    "from random import sample\n",
    "\n",
    "trainFiles=[]\n",
    "valFiles=[]\n",
    "testFiles=[]\n",
    "\n",
    "for index, blist in enumerate(flist):\n",
    "    randFiles = sample(range(len(blist)), len(blist))\n",
    "    start = 0\n",
    "    end = trainSet[index]\n",
    "    trainFiles.append(randFiles[start:end])\n",
    "    start = end \n",
    "    end = start + valSet[index]\n",
    "    valFiles.append(randFiles[start:end])\n",
    "    start = end \n",
    "    end = start + testSet[index] \n",
    "    testFiles.append(randFiles[start:end])\n",
    "    print(\"Selected random files number:\\n train: \", len(trainFiles[index]),\"/\",trainSet[index],\n",
    "          \", val: \",len(valFiles[index]),\"/\",valSet[index],\n",
    "          \", test: \",len(testFiles[index]),\"/\",testSet[index])\n",
    "\n"
   ]
  },
  {
   "cell_type": "markdown",
   "metadata": {},
   "source": [
    "# Copying files to a new directory\n",
    "In previous blocks we've randomly selected which files will belong to which sets. Now we have to find corresponding images to those files and copy them to new directory.\n",
    "\n",
    "* new directory - i.e. ..data/mels/final\n",
    "    - train \n",
    "        - one folder for each class\n",
    "        - Ember\n",
    "        - Phyll\n",
    "        - ...\n",
    "    - val\n",
    "        - folders for each class\n",
    "    - test\n",
    "        - folders for each class"
   ]
  },
  {
   "cell_type": "code",
   "execution_count": 59,
   "metadata": {},
   "outputs": [],
   "source": [
    "def extractName(string):\n",
    "    return string.rsplit('/',1)[1].replace(' ', '')[:-4]"
   ]
  },
  {
   "cell_type": "code",
   "execution_count": 60,
   "metadata": {},
   "outputs": [],
   "source": [
    "# sort all the lists to make copying files easier\n",
    "sets=[trainFiles,valFiles,testFiles]\n",
    "for fileSet in sets:\n",
    "    for index,files in enumerate(fileSet):\n",
    "        fileSet[index].sort()"
   ]
  },
  {
   "cell_type": "code",
   "execution_count": 72,
   "metadata": {},
   "outputs": [
    {
     "name": "stdout",
     "output_type": "stream",
     "text": [
      "Long:  ['Parusmajor', 'Turduspilaris', 'Passerdomesticus', 'Luscinialuscinia', 'Dendrocoposmajor', 'Corvusmonedula', 'Phoenicurusphoenicurus', 'Erithacusrubecula', 'Picapica', 'Phoenicurusochruros', 'Garrulusglandarius', 'Passermontanus', 'Corvuscorone', 'Corvusfrugilegus', 'Coccothraustescoccothraustes', 'Sittaeuropaea', 'Alaudaarvensis', 'Streptopeliadecaocto', 'Phylloscopustrochilus', 'Delichonurbicum', 'Turdusphilomelos', 'Phylloscopuscollybita', 'Fringillacoelebs', 'Sturnusvulgaris', 'Emberizacitrinella', 'Columbapalumbus', 'Troglodytestroglodytes', 'Paruscaeruleus', 'Apusapus', 'Cardueliscarduelis', 'Chlorischloris', 'Motacillaalba', 'Turdusmerula'] \n",
      "Short:  ['0Parus', '1Passe', '2Lusci', '3Phoen', '4Erith', '5Phoen', '6Sitta', '7Alaud', '8Phyll', '9Turdu', '10Phyll', '11Fring', '12Sturn', '13Ember', '14Colum', '15Trogl', '16Cardu', '17Chlor', '18Turdu']\n"
     ]
    }
   ],
   "source": [
    "# change full names to short\n",
    "\n",
    "for root, dirs, files in os.walk(\"../data/xeno-canto-dataset-full/\"):\n",
    "    if root == \"../data/xeno-canto-dataset-full/\":\n",
    "        birds=dirs\n",
    "#birdsShort=[]\n",
    "#for bird in birds:\n",
    "#    birdsShort.append(bird[:5])\n",
    "\n",
    "setNames = [\"train/\",\"val/\",\"test/\"]\n",
    "\n",
    "print(\"Long: \", birds,\"\\nShort: \",birdsShort)\n"
   ]
  },
  {
   "cell_type": "code",
   "execution_count": 73,
   "metadata": {},
   "outputs": [
    {
     "name": "stdout",
     "output_type": "stream",
     "text": [
      "0\n",
      "8577\n",
      "1246\n",
      "3107\n",
      "2715\n",
      "21116\n",
      "1675\n",
      "2117\n",
      "2188\n",
      "4481\n",
      "35756\n",
      "5615\n",
      "10376\n",
      "3117\n",
      "9905\n",
      "977\n",
      "5226\n",
      "762\n",
      "1238\n"
     ]
    }
   ],
   "source": [
    "\n",
    "import shutil\n",
    "\n",
    "counter=0\n",
    "for birdNumber, bird in enumerate(birdsShort): # for each class (bird) check where the file should be copied\n",
    "    print(counter)\n",
    "    counter=0\n",
    "    for setName, fileSet in zip(setNames, sets): # check for all datasets: train, val and test sests \n",
    "        for setNumber in fileSet[birdNumber]:\n",
    "            \n",
    "            for fileNumber, file in enumerate(flist[birdNumber]):\n",
    "                if setNumber == fileNumber: # if file number to copy is same as number of file, then copy it\n",
    "                    \n",
    "                    for root, dirs, files in os.walk(\"../data/mels-19class/\"):\n",
    "                        for file2 in files:\n",
    "                            if extractName(file) in file2:\n",
    "                                counter=counter+1\n",
    "                                source=root+\"/\"+file2\n",
    "                                \n",
    "                                destination = \"data/19_class/\"+setName+bird+\"/\"\n",
    "                                if not os.path.exists(destination):\n",
    "                                    os.makedirs(destination)\n",
    "                                shutil.copy2(source, destination)\n",
    "                                #print(source, \"   ->   \", destination)\n",
    "\n",
    "            "
   ]
  },
  {
   "cell_type": "code",
   "execution_count": null,
   "metadata": {},
   "outputs": [],
   "source": []
  }
 ],
 "metadata": {
  "kernelspec": {
   "display_name": "Python 3",
   "language": "python",
   "name": "python3"
  },
  "language_info": {
   "codemirror_mode": {
    "name": "ipython",
    "version": 3
   },
   "file_extension": ".py",
   "mimetype": "text/x-python",
   "name": "python",
   "nbconvert_exporter": "python",
   "pygments_lexer": "ipython3",
   "version": "3.7.3"
  }
 },
 "nbformat": 4,
 "nbformat_minor": 2
}
