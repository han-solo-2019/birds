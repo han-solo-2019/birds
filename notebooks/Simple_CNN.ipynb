{
 "cells": [
  {
   "cell_type": "markdown",
   "metadata": {
    "colab_type": "text",
    "id": "XiSbdYBMsE6j"
   },
   "source": [
    "# Convolutional Neural Networks"
   ]
  },
  {
   "cell_type": "code",
   "execution_count": 2,
   "metadata": {
    "colab": {},
    "colab_type": "code",
    "id": "E4f9LNXG22u4"
   },
   "outputs": [
    {
     "name": "stdout",
     "output_type": "stream",
     "text": [
      "Collecting package metadata (current_repodata.json): done\n",
      "Solving environment: done\n",
      "\n",
      "## Package Plan ##\n",
      "\n",
      "  environment location: /home/ubuntu/anaconda3\n",
      "\n",
      "  added / updated specs:\n",
      "    - tensorflow-gpu\n",
      "\n",
      "\n",
      "The following packages will be downloaded:\n",
      "\n",
      "    package                    |            build\n",
      "    ---------------------------|-----------------\n",
      "    _tflow_select-2.1.0        |              gpu           2 KB\n",
      "    absl-py-0.8.1              |           py37_0         158 KB  conda-forge\n",
      "    astor-0.7.1                |             py_0          22 KB  conda-forge\n",
      "    c-ares-1.15.0              |    h516909a_1001         100 KB  conda-forge\n",
      "    cudatoolkit-10.1.168       |                0       354.1 MB\n",
      "    cudnn-7.6.0                |       cuda10.1_0       174.2 MB\n",
      "    cupti-10.1.168             |                0         1.4 MB\n",
      "    gast-0.3.2                 |             py_0          11 KB  conda-forge\n",
      "    google-pasta-0.1.7         |             py_0          40 KB  conda-forge\n",
      "    grpcio-1.23.0              |   py37he9ae1f9_0         1.1 MB  conda-forge\n",
      "    keras-applications-1.0.8   |             py_1          30 KB  conda-forge\n",
      "    keras-preprocessing-1.1.0  |             py_0          33 KB  conda-forge\n",
      "    libprotobuf-3.10.0         |       h8b12597_0         4.8 MB  conda-forge\n",
      "    markdown-3.1.1             |             py_0          60 KB  conda-forge\n",
      "    protobuf-3.10.0            |   py37he1b5a44_0         695 KB  conda-forge\n",
      "    tensorboard-1.14.0         |           py37_0         3.2 MB  conda-forge\n",
      "    tensorflow-1.14.0          |gpu_py37h74c33d7_0           4 KB\n",
      "    tensorflow-base-1.14.0     |gpu_py37he45bfe2_0       146.3 MB\n",
      "    tensorflow-estimator-1.14.0|   py37h5ca1d4c_0         645 KB  conda-forge\n",
      "    tensorflow-gpu-1.14.0      |       h0d30ee6_0           3 KB\n",
      "    termcolor-1.1.0            |             py_2           6 KB  conda-forge\n",
      "    ------------------------------------------------------------\n",
      "                                           Total:       686.7 MB\n",
      "\n",
      "The following NEW packages will be INSTALLED:\n",
      "\n",
      "  _tflow_select      pkgs/main/linux-64::_tflow_select-2.1.0-gpu\n",
      "  absl-py            conda-forge/linux-64::absl-py-0.8.1-py37_0\n",
      "  astor              conda-forge/noarch::astor-0.7.1-py_0\n",
      "  c-ares             conda-forge/linux-64::c-ares-1.15.0-h516909a_1001\n",
      "  cudatoolkit        pkgs/main/linux-64::cudatoolkit-10.1.168-0\n",
      "  cudnn              pkgs/main/linux-64::cudnn-7.6.0-cuda10.1_0\n",
      "  cupti              pkgs/main/linux-64::cupti-10.1.168-0\n",
      "  gast               conda-forge/noarch::gast-0.3.2-py_0\n",
      "  google-pasta       conda-forge/noarch::google-pasta-0.1.7-py_0\n",
      "  grpcio             conda-forge/linux-64::grpcio-1.23.0-py37he9ae1f9_0\n",
      "  keras-applications conda-forge/noarch::keras-applications-1.0.8-py_1\n",
      "  keras-preprocessi~ conda-forge/noarch::keras-preprocessing-1.1.0-py_0\n",
      "  libprotobuf        conda-forge/linux-64::libprotobuf-3.10.0-h8b12597_0\n",
      "  markdown           conda-forge/noarch::markdown-3.1.1-py_0\n",
      "  protobuf           conda-forge/linux-64::protobuf-3.10.0-py37he1b5a44_0\n",
      "  tensorboard        conda-forge/linux-64::tensorboard-1.14.0-py37_0\n",
      "  tensorflow         pkgs/main/linux-64::tensorflow-1.14.0-gpu_py37h74c33d7_0\n",
      "  tensorflow-base    pkgs/main/linux-64::tensorflow-base-1.14.0-gpu_py37he45bfe2_0\n",
      "  tensorflow-estima~ conda-forge/linux-64::tensorflow-estimator-1.14.0-py37h5ca1d4c_0\n",
      "  tensorflow-gpu     pkgs/main/linux-64::tensorflow-gpu-1.14.0-h0d30ee6_0\n",
      "  termcolor          conda-forge/noarch::termcolor-1.1.0-py_2\n",
      "\n",
      "\n",
      "\n",
      "Downloading and Extracting Packages\n",
      "c-ares-1.15.0        | 100 KB    | ##################################### | 100% \n",
      "tensorflow-1.14.0    | 4 KB      | ##################################### | 100% \n",
      "google-pasta-0.1.7   | 40 KB     | ##################################### | 100% \n",
      "protobuf-3.10.0      | 695 KB    | ##################################### | 100% \n",
      "keras-preprocessing- | 33 KB     | ##################################### | 100% \n",
      "cupti-10.1.168       | 1.4 MB    | ##################################### | 100% \n",
      "grpcio-1.23.0        | 1.1 MB    | ##################################### | 100% \n",
      "keras-applications-1 | 30 KB     | ##################################### | 100% \n",
      "cudnn-7.6.0          | 174.2 MB  | ##################################### | 100% \n",
      "astor-0.7.1          | 22 KB     | ##################################### | 100% \n",
      "tensorflow-gpu-1.14. | 3 KB      | ##################################### | 100% \n",
      "tensorboard-1.14.0   | 3.2 MB    | ##################################### | 100% \n",
      "_tflow_select-2.1.0  | 2 KB      | ##################################### | 100% \n",
      "termcolor-1.1.0      | 6 KB      | ##################################### | 100% \n",
      "cudatoolkit-10.1.168 | 354.1 MB  | ##################################### | 100% \n",
      "tensorflow-estimator | 645 KB    | ##################################### | 100% \n",
      "markdown-3.1.1       | 60 KB     | ##################################### | 100% \n",
      "libprotobuf-3.10.0   | 4.8 MB    | ##################################### | 100% \n",
      "gast-0.3.2           | 11 KB     | ##################################### | 100% \n",
      "absl-py-0.8.1        | 158 KB    | ##################################### | 100% \n",
      "tensorflow-base-1.14 | 146.3 MB  | ##################################### | 100% \n",
      "Preparing transaction: done\n",
      "Verifying transaction: done\n",
      "Executing transaction: done\n"
     ]
    }
   ],
   "source": [
    "# install librosa & boto3\n",
    "import sys\n",
    "! conda install  --yes --prefix {sys.prefix} -c conda-forge tensorflow-gpu # package install with conda\n"
   ]
  },
  {
   "cell_type": "code",
   "execution_count": 3,
   "metadata": {},
   "outputs": [
    {
     "name": "stdout",
     "output_type": "stream",
     "text": [
      "Collecting package metadata (current_repodata.json): done\n",
      "Solving environment: done\n",
      "\n",
      "## Package Plan ##\n",
      "\n",
      "  environment location: /home/ubuntu/anaconda3\n",
      "\n",
      "  added / updated specs:\n",
      "    - keras\n",
      "\n",
      "\n",
      "The following packages will be downloaded:\n",
      "\n",
      "    package                    |            build\n",
      "    ---------------------------|-----------------\n",
      "    binutils_impl_linux-64-2.31.1|       h7fc9f1b_2        16.4 MB  conda-forge\n",
      "    binutils_linux-64-2.31.1   |      h6176602_12          10 KB  conda-forge\n",
      "    gcc_impl_linux-64-7.3.0    |       habb00fd_2        70.5 MB  conda-forge\n",
      "    gcc_linux-64-7.3.0         |      h553295d_12          11 KB  conda-forge\n",
      "    gxx_impl_linux-64-7.3.0    |       hdf63c60_2        19.1 MB  conda-forge\n",
      "    gxx_linux-64-7.3.0         |      h553295d_12          11 KB  conda-forge\n",
      "    keras-2.3.1                |           py37_0         591 KB  conda-forge\n",
      "    libgpuarray-0.7.6          |    h14c3975_1003         263 KB  conda-forge\n",
      "    mako-1.1.0                 |             py_0          57 KB  conda-forge\n",
      "    pygpu-0.7.6                |py37h3010b51_1000         683 KB  conda-forge\n",
      "    theano-1.0.4               |py37hf484d3e_1000         3.6 MB  conda-forge\n",
      "    ------------------------------------------------------------\n",
      "                                           Total:       111.2 MB\n",
      "\n",
      "The following NEW packages will be INSTALLED:\n",
      "\n",
      "  binutils_impl_lin~ conda-forge/linux-64::binutils_impl_linux-64-2.31.1-h7fc9f1b_2\n",
      "  binutils_linux-64  conda-forge/linux-64::binutils_linux-64-2.31.1-h6176602_12\n",
      "  gcc_impl_linux-64  conda-forge/linux-64::gcc_impl_linux-64-7.3.0-habb00fd_2\n",
      "  gcc_linux-64       conda-forge/linux-64::gcc_linux-64-7.3.0-h553295d_12\n",
      "  gxx_impl_linux-64  conda-forge/linux-64::gxx_impl_linux-64-7.3.0-hdf63c60_2\n",
      "  gxx_linux-64       conda-forge/linux-64::gxx_linux-64-7.3.0-h553295d_12\n",
      "  keras              conda-forge/linux-64::keras-2.3.1-py37_0\n",
      "  libgpuarray        conda-forge/linux-64::libgpuarray-0.7.6-h14c3975_1003\n",
      "  mako               conda-forge/noarch::mako-1.1.0-py_0\n",
      "  pygpu              conda-forge/linux-64::pygpu-0.7.6-py37h3010b51_1000\n",
      "  theano             conda-forge/linux-64::theano-1.0.4-py37hf484d3e_1000\n",
      "\n",
      "\n",
      "\n",
      "Downloading and Extracting Packages\n",
      "gxx_impl_linux-64-7. | 19.1 MB   | ##################################### | 100% \n",
      "gxx_linux-64-7.3.0   | 11 KB     | ##################################### | 100% \n",
      "mako-1.1.0           | 57 KB     | ##################################### | 100% \n",
      "pygpu-0.7.6          | 683 KB    | ##################################### | 100% \n",
      "binutils_impl_linux- | 16.4 MB   | ##################################### | 100% \n",
      "theano-1.0.4         | 3.6 MB    | ##################################### | 100% \n",
      "libgpuarray-0.7.6    | 263 KB    | ##################################### | 100% \n",
      "gcc_linux-64-7.3.0   | 11 KB     | ##################################### | 100% \n",
      "keras-2.3.1          | 591 KB    | ##################################### | 100% \n",
      "gcc_impl_linux-64-7. | 70.5 MB   | ##################################### | 100% \n",
      "binutils_linux-64-2. | 10 KB     | ##################################### | 100% \n",
      "Preparing transaction: done\n",
      "Verifying transaction: done\n",
      "Executing transaction: done\n"
     ]
    }
   ],
   "source": [
    "! conda install  --yes --prefix {sys.prefix} -c conda-forge keras # package install with conda"
   ]
  },
  {
   "cell_type": "code",
   "execution_count": 4,
   "metadata": {
    "colab": {},
    "colab_type": "code",
    "id": "kqSOYoMyrV5m"
   },
   "outputs": [
    {
     "name": "stderr",
     "output_type": "stream",
     "text": [
      "Using TensorFlow backend.\n"
     ]
    }
   ],
   "source": [
    "# Importing the Keras libraries and packages\n",
    "from keras.models import Sequential\n",
    "from keras.layers import Conv2D\n",
    "from keras.layers import MaxPooling2D\n",
    "from keras.layers import Flatten\n",
    "from keras.layers import Dense"
   ]
  },
  {
   "cell_type": "code",
   "execution_count": 5,
   "metadata": {
    "colab": {},
    "colab_type": "code",
    "id": "VrYArfsVsnZj"
   },
   "outputs": [],
   "source": [
    "# Initialising the CNN\n",
    "classifier = Sequential()"
   ]
  },
  {
   "cell_type": "markdown",
   "metadata": {
    "colab_type": "text",
    "id": "5o_7ltbOyrZM"
   },
   "source": [
    "Conv2D(filters, kernel_size, input_shape, activation)"
   ]
  },
  {
   "cell_type": "code",
   "execution_count": 6,
   "metadata": {
    "colab": {},
    "colab_type": "code",
    "id": "HUs7BRJSspc3"
   },
   "outputs": [],
   "source": [
    "# Step 1 - Convolution\n",
    "classifier.add(Conv2D(32, (3, 3), input_shape = (64, 64, 3), activation = 'relu'))"
   ]
  },
  {
   "cell_type": "markdown",
   "metadata": {
    "colab_type": "text",
    "id": "tSjbcmokstug"
   },
   "source": [
    "[source](https://4.bp.blogspot.com/--1sSvdrhRlc/WnD3Camp74I/AAAAAAABB6c/8xEC_Cnt1W0NWNQbiFloJ8uLW35aJHBiACLcBGAs/s1600/Przechwytywanie.PNG)\n",
    "![alt text](https://4.bp.blogspot.com/--1sSvdrhRlc/WnD3Camp74I/AAAAAAABB6c/8xEC_Cnt1W0NWNQbiFloJ8uLW35aJHBiACLcBGAs/s1600/Przechwytywanie.PNG)"
   ]
  },
  {
   "cell_type": "code",
   "execution_count": 7,
   "metadata": {
    "colab": {},
    "colab_type": "code",
    "id": "ufZMMYKlt9mI"
   },
   "outputs": [
    {
     "name": "stdout",
     "output_type": "stream",
     "text": [
      "WARNING:tensorflow:From /home/ubuntu/anaconda3/lib/python3.7/site-packages/keras/backend/tensorflow_backend.py:4070: The name tf.nn.max_pool is deprecated. Please use tf.nn.max_pool2d instead.\n",
      "\n"
     ]
    }
   ],
   "source": [
    "# Step 2 - Pooling\n",
    "classifier.add(MaxPooling2D(pool_size = (2, 2)))"
   ]
  },
  {
   "cell_type": "markdown",
   "metadata": {
    "colab_type": "text",
    "id": "CgvI18abu-6W"
   },
   "source": [
    "![alt text](https://computersciencewiki.org/images/8/8a/MaxpoolSample2.png)"
   ]
  },
  {
   "cell_type": "code",
   "execution_count": 8,
   "metadata": {
    "colab": {},
    "colab_type": "code",
    "id": "mTnqPQzkvWfm"
   },
   "outputs": [],
   "source": [
    "# Adding a second convolutional layer\n",
    "classifier.add(Conv2D(32, (3, 3), activation = 'relu'))\n",
    "classifier.add(MaxPooling2D(pool_size = (2, 2)))"
   ]
  },
  {
   "cell_type": "code",
   "execution_count": 9,
   "metadata": {
    "colab": {},
    "colab_type": "code",
    "id": "EJGgHEzEvgOz"
   },
   "outputs": [],
   "source": [
    "# Step 3 - Flattening\n",
    "classifier.add(Flatten())"
   ]
  },
  {
   "cell_type": "markdown",
   "metadata": {
    "colab_type": "text",
    "id": "9p3rPymjxZrF"
   },
   "source": [
    "![alt text](https://sds-platform-private.s3-us-east-2.amazonaws.com/uploads/73_blog_image_1.png)"
   ]
  },
  {
   "cell_type": "code",
   "execution_count": 19,
   "metadata": {
    "colab": {},
    "colab_type": "code",
    "id": "ngNEn9RCvjNG"
   },
   "outputs": [],
   "source": [
    "# Step 4 - Full connection\n",
    "classifier.add(Dense(units = 128, activation = 'relu'))\n",
    "classifier.add(Dense(units = 5, activation = 'sigmoid'))"
   ]
  },
  {
   "cell_type": "markdown",
   "metadata": {
    "colab_type": "text",
    "id": "7GANXsuAyFDY"
   },
   "source": [
    "![alt text](https://miro.medium.com/max/1000/0*nipS8XYMKvUjvLoc.png)"
   ]
  },
  {
   "cell_type": "code",
   "execution_count": 20,
   "metadata": {
    "colab": {},
    "colab_type": "code",
    "id": "FtStK1GlvovS"
   },
   "outputs": [],
   "source": [
    "# Compiling the CNN\n",
    "classifier.compile(optimizer = 'adam', loss = 'categorical_crossentropy', metrics = ['accuracy'])"
   ]
  },
  {
   "cell_type": "markdown",
   "metadata": {
    "colab_type": "text",
    "id": "1JzKUlxg13Bl"
   },
   "source": [
    "![alt text](https://gombru.github.io/assets/cross_entropy_loss/softmax_CE_pipeline.png)"
   ]
  },
  {
   "cell_type": "markdown",
   "metadata": {
    "colab_type": "text",
    "id": "zzgxU9pi408r"
   },
   "source": [
    "cat=0.75\n",
    "dog=0.45  \n",
    "Solution: softmax\n",
    "\n"
   ]
  },
  {
   "cell_type": "code",
   "execution_count": 21,
   "metadata": {
    "colab": {},
    "colab_type": "code",
    "id": "K-l9KrSLvsxn"
   },
   "outputs": [],
   "source": [
    "# Part 2 - Fitting the CNN to the images\n",
    "from keras.preprocessing.image import ImageDataGenerator"
   ]
  },
  {
   "cell_type": "code",
   "execution_count": 27,
   "metadata": {
    "colab": {},
    "colab_type": "code",
    "id": "YJF0XSExvviw"
   },
   "outputs": [],
   "source": [
    "train_datagen = ImageDataGenerator(rescale = 1./255,\n",
    "                                   shear_range = 0.2,\n",
    "                                   zoom_range = 0.2,\n",
    "                                   horizontal_flip = False)"
   ]
  },
  {
   "cell_type": "code",
   "execution_count": 28,
   "metadata": {
    "colab": {},
    "colab_type": "code",
    "id": "WyiHV_Qwv23a"
   },
   "outputs": [],
   "source": [
    "test_datagen = ImageDataGenerator(rescale = 1./255)"
   ]
  },
  {
   "cell_type": "code",
   "execution_count": 29,
   "metadata": {
    "colab": {},
    "colab_type": "code",
    "id": "LSmC-ioSv86P"
   },
   "outputs": [
    {
     "name": "stdout",
     "output_type": "stream",
     "text": [
      "Found 39107 images belonging to 5 classes.\n"
     ]
    }
   ],
   "source": [
    "training_set = train_datagen.flow_from_directory('data/5_class/train',\n",
    "                                                 target_size = (64, 64),\n",
    "                                                 batch_size = 32,\n",
    "                                                 class_mode = 'categorical', shuffle=True)"
   ]
  },
  {
   "cell_type": "code",
   "execution_count": 30,
   "metadata": {
    "colab": {},
    "colab_type": "code",
    "id": "XZf5mzLMv91U"
   },
   "outputs": [
    {
     "name": "stdout",
     "output_type": "stream",
     "text": [
      "Found 4565 images belonging to 5 classes.\n"
     ]
    }
   ],
   "source": [
    "test_set = test_datagen.flow_from_directory('data/5_class/val',\n",
    "                                            target_size = (64, 64),\n",
    "                                            batch_size = 32,\n",
    "                                            class_mode = 'categorical')"
   ]
  },
  {
   "cell_type": "code",
   "execution_count": 31,
   "metadata": {
    "colab": {},
    "colab_type": "code",
    "id": "VREoIOibwC5K"
   },
   "outputs": [
    {
     "name": "stdout",
     "output_type": "stream",
     "text": [
      "Epoch 1/25\n",
      "1223/1223 [==============================] - 283s 231ms/step - loss: 1.0946 - accuracy: 0.5651 - val_loss: 1.1354 - val_accuracy: 0.5687\n",
      "Epoch 2/25\n",
      "1223/1223 [==============================] - 280s 229ms/step - loss: 1.0005 - accuracy: 0.5891 - val_loss: 1.0787 - val_accuracy: 0.5759\n",
      "Epoch 3/25\n",
      "1223/1223 [==============================] - 280s 229ms/step - loss: 0.9582 - accuracy: 0.6065 - val_loss: 0.8495 - val_accuracy: 0.5866\n",
      "Epoch 4/25\n",
      "1223/1223 [==============================] - 281s 230ms/step - loss: 0.8922 - accuracy: 0.6404 - val_loss: 1.2183 - val_accuracy: 0.6221\n",
      "Epoch 5/25\n",
      "1223/1223 [==============================] - 280s 229ms/step - loss: 0.7794 - accuracy: 0.6869 - val_loss: 0.9444 - val_accuracy: 0.6429\n",
      "Epoch 6/25\n",
      "1223/1223 [==============================] - 280s 229ms/step - loss: 0.7054 - accuracy: 0.7059 - val_loss: 0.3496 - val_accuracy: 0.6583\n",
      "Epoch 7/25\n",
      "1223/1223 [==============================] - 280s 229ms/step - loss: 0.6611 - accuracy: 0.7163 - val_loss: 0.4693 - val_accuracy: 0.6602\n",
      "Epoch 8/25\n",
      "1223/1223 [==============================] - 281s 230ms/step - loss: 0.6325 - accuracy: 0.7224 - val_loss: 0.5133 - val_accuracy: 0.6388\n",
      "Epoch 9/25\n",
      "1223/1223 [==============================] - 281s 230ms/step - loss: 0.6101 - accuracy: 0.7250 - val_loss: 1.1158 - val_accuracy: 0.6714\n",
      "Epoch 10/25\n",
      "1223/1223 [==============================] - 280s 229ms/step - loss: 0.5839 - accuracy: 0.7391 - val_loss: 0.8270 - val_accuracy: 0.6543\n",
      "Epoch 11/25\n",
      "1223/1223 [==============================] - 280s 229ms/step - loss: 0.5644 - accuracy: 0.7536 - val_loss: 1.0455 - val_accuracy: 0.6775\n",
      "Epoch 12/25\n",
      "1223/1223 [==============================] - 279s 229ms/step - loss: 0.5475 - accuracy: 0.7706 - val_loss: 0.4467 - val_accuracy: 0.6863\n",
      "Epoch 13/25\n",
      "1223/1223 [==============================] - 279s 228ms/step - loss: 0.5280 - accuracy: 0.7845 - val_loss: 0.7164 - val_accuracy: 0.6889\n",
      "Epoch 14/25\n",
      "1223/1223 [==============================] - 280s 229ms/step - loss: 0.5062 - accuracy: 0.7909 - val_loss: 0.7711 - val_accuracy: 0.6806\n",
      "Epoch 15/25\n",
      "1223/1223 [==============================] - 279s 228ms/step - loss: 0.4875 - accuracy: 0.7983 - val_loss: 0.3618 - val_accuracy: 0.6955\n",
      "Epoch 16/25\n",
      "1223/1223 [==============================] - 280s 229ms/step - loss: 0.4746 - accuracy: 0.8023 - val_loss: 0.6083 - val_accuracy: 0.6863\n",
      "Epoch 17/25\n",
      "1223/1223 [==============================] - 279s 229ms/step - loss: 0.4591 - accuracy: 0.8079 - val_loss: 1.1360 - val_accuracy: 0.6927\n",
      "Epoch 18/25\n",
      "1223/1223 [==============================] - 279s 228ms/step - loss: 0.4476 - accuracy: 0.8102 - val_loss: 1.1732 - val_accuracy: 0.6894\n",
      "Epoch 19/25\n",
      "1223/1223 [==============================] - 279s 228ms/step - loss: 0.4386 - accuracy: 0.8151 - val_loss: 0.5313 - val_accuracy: 0.6946\n",
      "Epoch 20/25\n",
      "1223/1223 [==============================] - 279s 228ms/step - loss: 0.4232 - accuracy: 0.8203 - val_loss: 1.2132 - val_accuracy: 0.6977\n",
      "Epoch 21/25\n",
      "1223/1223 [==============================] - 279s 228ms/step - loss: 0.4166 - accuracy: 0.8230 - val_loss: 1.0927 - val_accuracy: 0.7005\n",
      "Epoch 22/25\n",
      "1223/1223 [==============================] - 279s 228ms/step - loss: 0.4098 - accuracy: 0.8258 - val_loss: 1.2160 - val_accuracy: 0.7043\n",
      "Epoch 23/25\n",
      "1223/1223 [==============================] - 279s 228ms/step - loss: 0.3984 - accuracy: 0.8296 - val_loss: 0.8092 - val_accuracy: 0.6918\n",
      "Epoch 24/25\n",
      "1223/1223 [==============================] - 280s 229ms/step - loss: 0.3945 - accuracy: 0.8293 - val_loss: 0.9138 - val_accuracy: 0.6964\n",
      "Epoch 25/25\n",
      "1223/1223 [==============================] - 280s 229ms/step - loss: 0.3815 - accuracy: 0.8330 - val_loss: 0.8676 - val_accuracy: 0.6874\n"
     ]
    },
    {
     "data": {
      "text/plain": [
       "<keras.callbacks.callbacks.History at 0x7fb353d61048>"
      ]
     },
     "execution_count": 31,
     "metadata": {},
     "output_type": "execute_result"
    }
   ],
   "source": [
    "classifier.fit_generator(training_set,\n",
    "                         epochs = 25,\n",
    "                         validation_data = test_set)"
   ]
  }
 ],
 "metadata": {
  "colab": {
   "collapsed_sections": [],
   "name": "Cat-and-Dog_CNN.ipynb",
   "provenance": [],
   "toc_visible": true
  },
  "kernelspec": {
   "display_name": "Python 3",
   "language": "python",
   "name": "python3"
  },
  "language_info": {
   "codemirror_mode": {
    "name": "ipython",
    "version": 3
   },
   "file_extension": ".py",
   "mimetype": "text/x-python",
   "name": "python",
   "nbconvert_exporter": "python",
   "pygments_lexer": "ipython3",
   "version": "3.7.3"
  }
 },
 "nbformat": 4,
 "nbformat_minor": 1
}
